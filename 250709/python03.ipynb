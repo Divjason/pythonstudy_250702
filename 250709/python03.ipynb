{
 "cells": [
  {
   "cell_type": "markdown",
   "id": "e06808c5-1e9c-4cba-9a88-a22fce10f237",
   "metadata": {},
   "source": [
    "#### 파이썬 Basic 크롤링 문법\n",
    "1. requests\n",
    "2. bs4"
   ]
  },
  {
   "cell_type": "code",
   "execution_count": 5,
   "id": "eae11f2f-7456-4a54-939c-44fdd5d9e5b7",
   "metadata": {},
   "outputs": [
    {
     "name": "stdout",
     "output_type": "stream",
     "text": [
      "잔금대출에도 DTI 규제 적용 검토\n"
     ]
    }
   ],
   "source": [
    "import requests\n",
    "from bs4 import BeautifulSoup\n",
    "\n",
    "res = requests.get(\"https://v.daum.net/v/20170615203441266\")\n",
    "soup = BeautifulSoup(res.content, \"html.parser\")\n",
    "\n",
    "mydata = soup.find(\"title\")\n",
    "print(mydata.get_text())"
   ]
  }
 ],
 "metadata": {
  "kernelspec": {
   "display_name": "Python [conda env:base] *",
   "language": "python",
   "name": "conda-base-py"
  },
  "language_info": {
   "codemirror_mode": {
    "name": "ipython",
    "version": 3
   },
   "file_extension": ".py",
   "mimetype": "text/x-python",
   "name": "python",
   "nbconvert_exporter": "python",
   "pygments_lexer": "ipython3",
   "version": "3.13.5"
  }
 },
 "nbformat": 4,
 "nbformat_minor": 5
}
