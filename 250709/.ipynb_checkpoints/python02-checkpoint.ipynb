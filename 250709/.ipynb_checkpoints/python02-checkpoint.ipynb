{
 "cells": [
  {
   "cell_type": "markdown",
   "id": "2386ecfd-e0f3-4296-8bfd-d1894dfb8135",
   "metadata": {},
   "source": [
    "#### 파이썬 크롤링\n",
    "1. 크롤링을 하는 수많은 프로그래밍 언어과 툴이 존재하는데 왜? 파이썬?\n",
    "   - 파이썬은 라이브러리의 천국이다\n",
    "   - 라이브러리 => 도서관 => 특정 분야에 대한 전문지식을 습득하기 위해서 해당 책을 빌려보거나 서재에서 가져다가 참고!\n",
    "   - 크롤링을 하려고 하는데, atoz까지 직접 크롤링을 위한 코드를 작성한다면 시간, 효율이 매우 안좋을 것임\n",
    "   - 파이썬은 미리 크롤링할 수 있도록 도와줄 수 있는 일종의 참고서적을 만들어 놓음 (*참고서적 => 라이브러리)\n",
    "   - 특정 라이브러리를 가져와서 사용하려면 import 예약어 (*명령어)를 사용!!\n",
    "   - 만약에 해당 라이브러리가 파이썬에 내장되어있는 라이브러리가 아니라고 한다면 반드시 사전에 설치가 필요!!\n",
    "     - !pip = (python install package)\n",
    "     - !pip install 설치하고싶은 라이브러리명 = pandas"
   ]
  },
  {
   "cell_type": "code",
   "execution_count": 4,
   "id": "18a2fbd3-957a-44c1-b600-a6040992f135",
   "metadata": {},
   "outputs": [
    {
     "name": "stdout",
     "output_type": "stream",
     "text": [
      "Requirement already satisfied: pandas in /opt/anaconda3/lib/python3.13/site-packages (2.2.3)\n",
      "Requirement already satisfied: numpy>=1.26.0 in /opt/anaconda3/lib/python3.13/site-packages (from pandas) (2.1.3)\n",
      "Requirement already satisfied: python-dateutil>=2.8.2 in /opt/anaconda3/lib/python3.13/site-packages (from pandas) (2.9.0.post0)\n",
      "Requirement already satisfied: pytz>=2020.1 in /opt/anaconda3/lib/python3.13/site-packages (from pandas) (2024.1)\n",
      "Requirement already satisfied: tzdata>=2022.7 in /opt/anaconda3/lib/python3.13/site-packages (from pandas) (2025.2)\n",
      "Requirement already satisfied: six>=1.5 in /opt/anaconda3/lib/python3.13/site-packages (from python-dateutil>=2.8.2->pandas) (1.17.0)\n"
     ]
    }
   ],
   "source": [
    "!pip install pandas"
   ]
  },
  {
   "cell_type": "code",
   "execution_count": 5,
   "id": "6f481547-327f-4c5e-94ad-c61d0d93414e",
   "metadata": {},
   "outputs": [],
   "source": [
    "import pandas"
   ]
  },
  {
   "cell_type": "code",
   "execution_count": 17,
   "id": "d57692e1-7beb-49d0-8b42-0c853a5b8c7a",
   "metadata": {},
   "outputs": [
    {
     "data": {
      "text/plain": [
       "1.2909944487358056"
      ]
     },
     "execution_count": 17,
     "metadata": {},
     "output_type": "execute_result"
    }
   ],
   "source": [
    "# import statistics\n",
    "# from statistics import mean, stdev\n",
    "# from statistics import *\n",
    "# import statistics as s\n",
    "from statistics import mean as m\n",
    "\n",
    "data = [1, 2, 3, 4]\n",
    "\n",
    "s.mean(data)\n",
    "s.stdev(data)\n",
    "\n",
    "# print(statistics.mean(data))\n",
    "# print(statistics.stdev(data))"
   ]
  }
 ],
 "metadata": {
  "kernelspec": {
   "display_name": "Python [conda env:base] *",
   "language": "python",
   "name": "conda-base-py"
  },
  "language_info": {
   "codemirror_mode": {
    "name": "ipython",
    "version": 3
   },
   "file_extension": ".py",
   "mimetype": "text/x-python",
   "name": "python",
   "nbconvert_exporter": "python",
   "pygments_lexer": "ipython3",
   "version": "3.13.5"
  }
 },
 "nbformat": 4,
 "nbformat_minor": 5
}
