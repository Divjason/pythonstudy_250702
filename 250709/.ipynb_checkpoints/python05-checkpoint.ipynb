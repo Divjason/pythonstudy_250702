{
 "cells": [
  {
   "cell_type": "code",
   "execution_count": 14,
   "id": "ca8a1bdd-dcc0-451f-ad2d-b4cc5ea63fc6",
   "metadata": {},
   "outputs": [
    {
     "name": "stdout",
     "output_type": "stream",
     "text": [
      "잔금대출에도 DTI 규제 적용 검토\n"
     ]
    }
   ],
   "source": [
    "import requests\n",
    "from bs4 import BeautifulSoup\n",
    "\n",
    "res = requests.get(\"https://v.daum.net/v/20170615203441266\")\n",
    "soup = BeautifulSoup(res.content, \"html.parser\")\n",
    "\n",
    "# mydata = soup.find(\"h3\", attrs={\"class\",\"tit_view01\"})\n",
    "mydata = soup.find(\"h3\", attrs={\"class\":\"tit_view\"})\n",
    "print(mydata.string)"
   ]
  },
  {
   "cell_type": "code",
   "execution_count": 17,
   "id": "2f602216-a8fe-4d62-b9cd-c1a3c7de8063",
   "metadata": {},
   "outputs": [
    {
     "name": "stdout",
     "output_type": "stream",
     "text": [
      "2017. 6. 15. 20:34\n"
     ]
    }
   ],
   "source": [
    "import requests\n",
    "from bs4 import BeautifulSoup\n",
    "\n",
    "res = requests.get(\"https://v.daum.net/v/20170615203441266\")\n",
    "soup = BeautifulSoup(res.content, \"html.parser\")\n",
    "\n",
    "# mydata = soup.find(\"span\", class_=\"num_date\")\n",
    "# mydata = soup.find(\"span\", \"num_date\")\n",
    "# print(mydata.string)"
   ]
  }
 ],
 "metadata": {
  "kernelspec": {
   "display_name": "Python [conda env:base] *",
   "language": "python",
   "name": "conda-base-py"
  },
  "language_info": {
   "codemirror_mode": {
    "name": "ipython",
    "version": 3
   },
   "file_extension": ".py",
   "mimetype": "text/x-python",
   "name": "python",
   "nbconvert_exporter": "python",
   "pygments_lexer": "ipython3",
   "version": "3.13.5"
  }
 },
 "nbformat": 4,
 "nbformat_minor": 5
}
