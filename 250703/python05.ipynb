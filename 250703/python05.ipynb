{
 "cells": [
  {
   "cell_type": "markdown",
   "id": "f9ae9021-7e70-4ce6-88dd-b4e598bad776",
   "metadata": {},
   "source": [
    "- 구구단을 2단부터 9단까지 다음과 같이 출력해주세요!!! // 사용자에게 값을 받지 않는다!!\n",
    "  ```\n",
    "  2 x 1 = 2\n",
    "  2 x 2 = 4\n",
    "  ...\n",
    "  2 x 9 = 18\n",
    "  3 x 1 = 3\n",
    "  3 x 2 = 6\n",
    "  ...\n",
    "  9 x 9 = 81\n",
    "  ```"
   ]
  }
 ],
 "metadata": {
  "kernelspec": {
   "display_name": "Python [conda env:base] *",
   "language": "python",
   "name": "conda-base-py"
  },
  "language_info": {
   "codemirror_mode": {
    "name": "ipython",
    "version": 3
   },
   "file_extension": ".py",
   "mimetype": "text/x-python",
   "name": "python",
   "nbconvert_exporter": "python",
   "pygments_lexer": "ipython3",
   "version": "3.13.5"
  }
 },
 "nbformat": 4,
 "nbformat_minor": 5
}
