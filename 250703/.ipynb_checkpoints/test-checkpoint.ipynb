{
 "cells": [
  {
   "cell_type": "code",
   "execution_count": 1,
   "id": "9ab117fa-fd49-4aed-aa78-f52c0f87b9c3",
   "metadata": {},
   "outputs": [
    {
     "data": {
      "text/plain": [
       "set"
      ]
     },
     "execution_count": 1,
     "metadata": {},
     "output_type": "execute_result"
    }
   ],
   "source": [
    "keywords = {\"AI\", \"ChatGPT\", \"데이터\"}\n",
    "type(keywords)"
   ]
  },
  {
   "cell_type": "code",
   "execution_count": 2,
   "id": "b19e9516-ea51-4592-b880-cc04ac33dd04",
   "metadata": {},
   "outputs": [
    {
     "name": "stdout",
     "output_type": "stream",
     "text": [
      "Requirement already satisfied: requests in /opt/anaconda3/lib/python3.13/site-packages (2.32.3)\n",
      "Requirement already satisfied: beautifulsoup4 in /opt/anaconda3/lib/python3.13/site-packages (4.12.3)\n",
      "Requirement already satisfied: charset-normalizer<4,>=2 in /opt/anaconda3/lib/python3.13/site-packages (from requests) (3.3.2)\n",
      "Requirement already satisfied: idna<4,>=2.5 in /opt/anaconda3/lib/python3.13/site-packages (from requests) (3.7)\n",
      "Requirement already satisfied: urllib3<3,>=1.21.1 in /opt/anaconda3/lib/python3.13/site-packages (from requests) (2.4.0)\n",
      "Requirement already satisfied: certifi>=2017.4.17 in /opt/anaconda3/lib/python3.13/site-packages (from requests) (2025.4.26)\n",
      "Requirement already satisfied: soupsieve>1.2 in /opt/anaconda3/lib/python3.13/site-packages (from beautifulsoup4) (2.5)\n",
      "Note: you may need to restart the kernel to use updated packages.\n"
     ]
    }
   ],
   "source": [
    "pip install requests beautifulsoup4"
   ]
  },
  {
   "cell_type": "code",
   "execution_count": 1,
   "id": "a1665a8d-37d5-4fda-bbe7-48b702a60490",
   "metadata": {},
   "outputs": [
    {
     "name": "stdout",
     "output_type": "stream",
     "text": [
      "크롤링 시작\n",
      "응답코드: 200\n"
     ]
    }
   ],
   "source": [
    "print(\"크롤링 시작\")\n",
    "\n",
    "import requests\n",
    "from bs4 import BeautifulSoup\n",
    "\n",
    "url = \"https://movieevnetpage.netlify.app/\"\n",
    "response = requests.get(url)\n",
    "\n",
    "print(f\"응답코드: {response.status_code}\")\n",
    "\n",
    "soup = BeautifulSoup(response.text, \"html.parser\")\n",
    "\n",
    "movie_cards = soup.select(\".movie-card\")\n",
    "movie_data = []\n",
    "\n",
    "for idx, card in enumerate(movie_cards, start = 1) :\n",
    "    title = card.select_one(\"h2\").text.strip()\n",
    "    description = card.select_one(\"p\").text.strip()\n",
    "\n",
    "    movie_info = (idx, title, description)\n",
    "    movie_data.append(movie_info)\n",
    "\n",
    "for movie in movie_data :\n",
    "    print(f\"{movie[0]}위 : {movie[1]} / 설명 : {movie[2]}\")"
   ]
  },
  {
   "cell_type": "code",
   "execution_count": 2,
   "id": "071ed5ee-4391-47d7-98d6-2cddf7032535",
   "metadata": {},
   "outputs": [],
   "source": [
    "from selenium import webdriver\n",
    "from selenium.webdriver.chrome.service import Service\n",
    "from webdriver_manager.chrome import ChromeDriverManager\n",
    "from selenium.webdriver.common.by import By\n",
    "import time\n",
    "\n",
    "# 드라이버 자동 설치 및 서비스 객체 생성\n",
    "service = Service(ChromeDriverManager().install())\n",
    "\n",
    "# 브라우저 실행\n",
    "driver = webdriver.Chrome(service=service)\n",
    "driver.get(\"https://movieevnetpage.netlify.app/\")\n",
    "\n",
    "time.sleep(2)  # JS 렌더링 기다림\n",
    "\n",
    "# 영화 카드 요소 가져오기\n",
    "movie_cards = driver.find_elements(By.CLASS_NAME, \"movie-card\")\n",
    "\n",
    "movie_data = []\n",
    "for idx, card in enumerate(movie_cards, start=1):\n",
    "    title = card.find_element(By.TAG_NAME, \"h2\").text.strip()\n",
    "    description = card.find_element(By.TAG_NAME, \"p\").text.strip()\n",
    "\n",
    "    # ✅ 튜플로 저장\n",
    "    movie_info = (idx, title, description)\n",
    "    movie_data.append(movie_info)\n",
    "\n",
    "# 출력\n",
    "for movie in movie_data:\n",
    "    print(f\"{movie[0]}위 : {movie[1]} / 설명 : {movie[2]}\")\n",
    "\n",
    "# 브라우저 닫기\n",
    "driver.quit()"
   ]
  }
 ],
 "metadata": {
  "kernelspec": {
   "display_name": "Python [conda env:base] *",
   "language": "python",
   "name": "conda-base-py"
  },
  "language_info": {
   "codemirror_mode": {
    "name": "ipython",
    "version": 3
   },
   "file_extension": ".py",
   "mimetype": "text/x-python",
   "name": "python",
   "nbconvert_exporter": "python",
   "pygments_lexer": "ipython3",
   "version": "3.13.5"
  }
 },
 "nbformat": 4,
 "nbformat_minor": 5
}
