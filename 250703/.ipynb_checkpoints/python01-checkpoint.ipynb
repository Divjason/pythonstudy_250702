{
 "cells": [
  {
   "cell_type": "markdown",
   "id": "17829f14-3a55-43d6-a113-721286ddc0f0",
   "metadata": {},
   "source": [
    "- 사용자로부터 점수를 입력받은 수 등급을 출력하세요.\n",
    "  - (A : 100 ~ 81, B : 80 ~ 61, C : 60 ~ 0)"
   ]
  },
  {
   "cell_type": "code",
   "execution_count": 3,
   "id": "403f34a6-7d88-42cd-9951-436b5e43b7e0",
   "metadata": {},
   "outputs": [
    {
     "name": "stdin",
     "output_type": "stream",
     "text": [
      "사용자의 점수 99\n"
     ]
    },
    {
     "name": "stdout",
     "output_type": "stream",
     "text": [
      "A\n"
     ]
    }
   ],
   "source": [
    "data = int(input(\"사용자의 점수\"))\n",
    "\n",
    "if data >= 81 and data <= 100 :\n",
    "    print(\"A\")\n",
    "elif data >= 61 and data <= 80 :\n",
    "    print(\"B\")\n",
    "elif data >= 0 and data <= 60 :\n",
    "    print(\"C\")"
   ]
  },
  {
   "cell_type": "markdown",
   "id": "5df6876a-4322-4150-9e34-3af81bed30c3",
   "metadata": {},
   "source": [
    "- 사용자로부터 주민등록번호를 입력받아서 출생연도만 확인 후 출력해주세요.\n",
    "    - 예) 800000 - 1234567 => 80년생 입니다!!!"
   ]
  },
  {
   "cell_type": "code",
   "execution_count": 8,
   "id": "18f72071-523a-45fa-80f6-b9ab7217a815",
   "metadata": {},
   "outputs": [
    {
     "name": "stdin",
     "output_type": "stream",
     "text": [
      "주민등록번호입력 800000 - 1234567\n"
     ]
    },
    {
     "name": "stdout",
     "output_type": "stream",
     "text": [
      "80년생\n"
     ]
    }
   ],
   "source": [
    "data = input(\"주민등록번호입력\")\n",
    "age = data[0:2]\n",
    "\n",
    "print(f\"{age}년생\")"
   ]
  },
  {
   "cell_type": "code",
   "execution_count": 14,
   "id": "15a4330d-314f-4d03-820a-332980fe82ad",
   "metadata": {},
   "outputs": [
    {
     "name": "stdin",
     "output_type": "stream",
     "text": [
      "주민등록번호입력 800000 - 1234567\n"
     ]
    },
    {
     "name": "stdout",
     "output_type": "stream",
     "text": [
      "80년생\n"
     ]
    }
   ],
   "source": [
    "data = input(\"주민등록번호입력\")\n",
    "\n",
    "# print(f\"{data.split(\"-\")[0][0:2]}년생\")"
   ]
  },
  {
   "cell_type": "markdown",
   "id": "294fd052-8c2d-4a36-8f35-b23902e39288",
   "metadata": {},
   "source": [
    "- 사용자로부터 주민등록번호를 입력받아서 성별을 \"남성\" 또는 \"여성\"으로 출력해주세요.\n",
    "  - 주민등록번호 뒷자리 첫번째 숫자가 \"1\" => 남성 // \"2\" => 여성"
   ]
  },
  {
   "cell_type": "code",
   "execution_count": 20,
   "id": "6e1e6c8f-ba95-4849-ac45-074daa149b9e",
   "metadata": {},
   "outputs": [
    {
     "name": "stdin",
     "output_type": "stream",
     "text": [
      "주민등록번호입력 800000-2234567\n"
     ]
    },
    {
     "name": "stdout",
     "output_type": "stream",
     "text": [
      "여성입니다.\n"
     ]
    }
   ],
   "source": [
    "data = input(\"주민등록번호입력\")\n",
    "\n",
    "gender = data.split(\"-\")[1][0]\n",
    "\n",
    "if gender == \"1\" :\n",
    "    print(\"남성입니다\")\n",
    "else :\n",
    "    print(\"여성입니다.\")"
   ]
  },
  {
   "cell_type": "code",
   "execution_count": 15,
   "id": "219c1b7c-e873-4593-a15c-a06b8d74db9d",
   "metadata": {},
   "outputs": [
    {
     "data": {
      "text/plain": [
       "'a man goes into the room'"
      ]
     },
     "execution_count": 15,
     "metadata": {},
     "output_type": "execute_result"
    }
   ],
   "source": [
    "mystr = \"a man goes into the room...\"\n",
    "\n",
    "result = mystr.strip(\".\")\n",
    "result"
   ]
  },
  {
   "cell_type": "code",
   "execution_count": 30,
   "id": "47c5a36c-813d-49f0-bdb7-e17a0279fafb",
   "metadata": {},
   "outputs": [
    {
     "data": {
      "text/plain": [
       "'000770'"
      ]
     },
     "execution_count": 30,
     "metadata": {},
     "output_type": "execute_result"
    }
   ],
   "source": [
    "code = \"000770\\n\"\n",
    "code.strip()\n",
    "# code\n",
    "# strip() : 문자열 앞.뒤 상관없이 공백이라고 판단되는 문자열(*공백, 개행, 탭 등등)을 모두 제거하는 역할을 하는 메서드 함수"
   ]
  },
  {
   "cell_type": "code",
   "execution_count": 33,
   "id": "4034979b-58c2-46d5-bd13-77b4f65a24df",
   "metadata": {},
   "outputs": [
    {
     "name": "stdout",
     "output_type": "stream",
     "text": [
      "3\n",
      "0\n"
     ]
    }
   ],
   "source": [
    "python_desc = \"Installing Python is generally easy, and nowadays many Linux and UNIX distributions include a recent Python. Even some Windows computers (notably those from HP) now come with Python already installed.\"\n",
    "print(python_desc.count(\"Python\"))\n",
    "print(python_desc.count(\"python\"))"
   ]
  },
  {
   "cell_type": "markdown",
   "id": "e0695077-3548-44f5-aa3c-fd278df0c1c8",
   "metadata": {},
   "source": [
    "- 사용자로부터 note 라는 문자열을 받았다고 가정하세요. 그리고, 해당 문자열 안에 n이 들어가있는지 확인 후 n이 들어가있으면 숫자 0을 출력하고, 만약 그렇지 않다면 1을 출력하세요"
   ]
  },
  {
   "cell_type": "code",
   "execution_count": 49,
   "id": "76c3ac6f-d913-4ae8-852c-e180f7b1d701",
   "metadata": {},
   "outputs": [
    {
     "name": "stdin",
     "output_type": "stream",
     "text": [
      " naa\n"
     ]
    },
    {
     "name": "stdout",
     "output_type": "stream",
     "text": [
      "1\n"
     ]
    }
   ],
   "source": [
    "letters = input()\n",
    "\n",
    "var = letters.find(\"a\")\n",
    "\n",
    "print(var)\n",
    "# if var == 0 :\n",
    "#     print(0)\n",
    "# else :\n",
    "#     print(-1)\n",
    "\n",
    "# 일반적으로 프로그래밍언어는 true, false\n",
    "# truethy, falsy => 참인듯한 값, 거짓인듯 값\n",
    "# 0, null, undefined => falsy\n",
    "# 파이썬 => 0 => truethy, -1 => falsy"
   ]
  },
  {
   "cell_type": "markdown",
   "id": "74cd20c3-6a7e-43ea-ba13-9e2edb3dc843",
   "metadata": {},
   "source": [
    "- 사용자로부터 주민등록번호를 입력받은 후 사용자의 출생지가 어디인지 확인 후 출력해주세요.\n",
    "  - 주민등록번호 중 뒤에 8자리 중에서 첫번째 숫자가 성별을 의미하고, 두번째 숫자부터 세번째 숫자까지가 출생지를 의미하는 숫자!!! \"00 ~ 08 : 서울\", \"09 ~ 12 : 부산\""
   ]
  },
  {
   "cell_type": "code",
   "execution_count": 46,
   "id": "1179de1c-cb18-44e2-88f1-85b3aa1275af",
   "metadata": {},
   "outputs": [
    {
     "name": "stdout",
     "output_type": "stream",
     "text": [
      "부산출생입니다.\n"
     ]
    }
   ],
   "source": [
    "data = \"800000-2124567\"\n",
    "\n",
    "location = int(data.split(\"-\")[1][1:3])\n",
    "\n",
    "if location >= 0 and location <= 8 :\n",
    "    print(\"서울출생입니다.\")\n",
    "elif location >= 9 and location <= 12 :\n",
    "    print(\"부산출생입니다.\")"
   ]
  }
 ],
 "metadata": {
  "kernelspec": {
   "display_name": "Python [conda env:base] *",
   "language": "python",
   "name": "conda-base-py"
  },
  "language_info": {
   "codemirror_mode": {
    "name": "ipython",
    "version": 3
   },
   "file_extension": ".py",
   "mimetype": "text/x-python",
   "name": "python",
   "nbconvert_exporter": "python",
   "pygments_lexer": "ipython3",
   "version": "3.13.5"
  }
 },
 "nbformat": 4,
 "nbformat_minor": 5
}
