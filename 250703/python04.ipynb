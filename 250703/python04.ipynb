{
 "cells": [
  {
   "cell_type": "markdown",
   "id": "4bdf2cd1-028f-4f16-9ea2-2e83f6cc467d",
   "metadata": {},
   "source": [
    "#### 자료구조 형태\n",
    "- 숫자, 문자, 불리언\n",
    "- 리스트 (list)\n",
    "- 튜플 (Tuple)\n",
    "  - 리스트와 달리 튜플은 소괄호 형태를 띄고 있음\n",
    "  - 튜플은 최초 생성 후 값을 삭제, 추가할 수 없음\n",
    "  - 단, 튜플 간 병합기능 혹은 튜플 자체의 복제 등은 가능함\n",
    "  - 튜플은 리스트처럼 이터러블한 객체 속성을 가지고 있음 => 반복문을 사용할 수 있음 && 튜플 내부 아이템들은 각각 저마다의 고유한 인덱스값을 가지고 있다는 의미이기도 함!\n",
    "  - 함수의 반환값으로 찾아온 값을 활용해서 일반 변수 안에 값을 넣을 때, 구조분해할당의 형식으로 값을 전달할 수 있음!!\n",
    "  - 튜플을 수정, 편집, 삭제를 하고 싶다면 => 리스트로 바꿔주세요!!! => list(튜플자료형) => 리스트가 됨!!!"
   ]
  },
  {
   "cell_type": "code",
   "execution_count": 4,
   "id": "ea188665-b204-4047-9445-28311609f349",
   "metadata": {},
   "outputs": [
    {
     "name": "stdout",
     "output_type": "stream",
     "text": [
      "<class 'list'>\n",
      "<class 'tuple'>\n"
     ]
    }
   ],
   "source": [
    "listItems = []\n",
    "tupleItems = (1, 2, 3)\n",
    "\n",
    "print(type(listItems))\n",
    "print(type(tupleItems))"
   ]
  },
  {
   "cell_type": "code",
   "execution_count": 5,
   "id": "4c53a85c-6bde-486d-8db3-a039517af4ac",
   "metadata": {},
   "outputs": [
    {
     "name": "stdout",
     "output_type": "stream",
     "text": [
      "1\n",
      "2\n",
      "3\n"
     ]
    }
   ],
   "source": [
    "for item in tupleItems :\n",
    "    print(item)"
   ]
  },
  {
   "cell_type": "code",
   "execution_count": 12,
   "id": "e4a77df4-9257-4a94-8214-c143a38c1517",
   "metadata": {},
   "outputs": [
    {
     "name": "stdout",
     "output_type": "stream",
     "text": [
      "(1, 2, 3, 4)\n",
      "(1, 2, 1, 2, 1, 2)\n"
     ]
    }
   ],
   "source": [
    "# del tupleItems[1]\n",
    "# tupleItems.append(4)\n",
    "# tupleItems[4] = 4\n",
    "\n",
    "tuple01 = (1, 2)\n",
    "tuple02 = (3, 4)\n",
    "\n",
    "print(tuple01 + tuple02)\n",
    "print(tuple01 * 3)"
   ]
  },
  {
   "cell_type": "code",
   "execution_count": 29,
   "id": "09a891f5-918e-4529-adb7-0999d8184567",
   "metadata": {},
   "outputs": [],
   "source": [
    "x = 1\n",
    "y = 2"
   ]
  },
  {
   "cell_type": "code",
   "execution_count": 24,
   "id": "f3d504f4-be7a-4212-b9b4-6e0ec568fa82",
   "metadata": {},
   "outputs": [],
   "source": [
    "# temp = x\n",
    "# x = y\n",
    "# y = temp"
   ]
  },
  {
   "cell_type": "code",
   "execution_count": 31,
   "id": "bcc845ba-b136-4967-ba45-dc18f837b9df",
   "metadata": {},
   "outputs": [],
   "source": [
    "(x, y) = (y, x)"
   ]
  },
  {
   "cell_type": "code",
   "execution_count": 32,
   "id": "3238a73c-3498-4fe8-ab69-3f78091166be",
   "metadata": {},
   "outputs": [
    {
     "data": {
      "text/plain": [
       "2"
      ]
     },
     "execution_count": 32,
     "metadata": {},
     "output_type": "execute_result"
    }
   ],
   "source": [
    "x"
   ]
  },
  {
   "cell_type": "code",
   "execution_count": 41,
   "id": "f0f36e5f-de85-4864-9dcd-05a7ff6cd16a",
   "metadata": {},
   "outputs": [],
   "source": [
    "def quot_and_rem(x, y) :\n",
    "    quot = x // y\n",
    "    rem = x % y\n",
    "    return (quot, rem)"
   ]
  },
  {
   "cell_type": "code",
   "execution_count": 37,
   "id": "c8b1667c-fa8b-4680-aa92-858e6f56e375",
   "metadata": {},
   "outputs": [],
   "source": [
    "(quot01, rem01) = quot_and_rem(10, 3)"
   ]
  },
  {
   "cell_type": "code",
   "execution_count": 40,
   "id": "17866dc4-b3fe-4aa9-bea2-a374f5bfe077",
   "metadata": {},
   "outputs": [
    {
     "data": {
      "text/plain": [
       "int"
      ]
     },
     "execution_count": 40,
     "metadata": {},
     "output_type": "execute_result"
    }
   ],
   "source": [
    "type(quot01)"
   ]
  },
  {
   "cell_type": "code",
   "execution_count": 39,
   "id": "ef720490-54b8-4d25-8d5d-b961b75af20f",
   "metadata": {},
   "outputs": [
    {
     "data": {
      "text/plain": [
       "1"
      ]
     },
     "execution_count": 39,
     "metadata": {},
     "output_type": "execute_result"
    }
   ],
   "source": [
    "rem01"
   ]
  },
  {
   "cell_type": "code",
   "execution_count": 43,
   "id": "23c61d03-7759-4d51-8fff-f1ba5ca8b28e",
   "metadata": {},
   "outputs": [
    {
     "data": {
      "text/plain": [
       "tuple"
      ]
     },
     "execution_count": 43,
     "metadata": {},
     "output_type": "execute_result"
    }
   ],
   "source": [
    "data1 = (1, 2, 3)\n",
    "type(data1)"
   ]
  },
  {
   "cell_type": "code",
   "execution_count": 44,
   "id": "eaef67af-eb8d-4b4c-b50c-663b7fb7e237",
   "metadata": {},
   "outputs": [
    {
     "data": {
      "text/plain": [
       "[1, 2, 3]"
      ]
     },
     "execution_count": 44,
     "metadata": {},
     "output_type": "execute_result"
    }
   ],
   "source": [
    "list(data1)"
   ]
  }
 ],
 "metadata": {
  "kernelspec": {
   "display_name": "Python [conda env:base] *",
   "language": "python",
   "name": "conda-base-py"
  },
  "language_info": {
   "codemirror_mode": {
    "name": "ipython",
    "version": 3
   },
   "file_extension": ".py",
   "mimetype": "text/x-python",
   "name": "python",
   "nbconvert_exporter": "python",
   "pygments_lexer": "ipython3",
   "version": "3.13.5"
  }
 },
 "nbformat": 4,
 "nbformat_minor": 5
}
