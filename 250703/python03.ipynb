{
 "cells": [
  {
   "cell_type": "markdown",
   "id": "1720a0ac-b8c0-4f45-b4c1-755f46b2b1ac",
   "metadata": {},
   "source": [
    "#### 함수(function)\n",
    "\n",
    "- 함수는 선언 & 호출 개념\n",
    "- 인자값 혹은 인수 개념\n",
    "- 함수를 선언하는 단계에서는 매개변수를 지정한다라고 부르고, 실제로 함수를 호출하는 단계에서는 이미 지정해놓은 매개변수의 공간에 입력할 값을 인자값 혹은 인수라고 부름!!!\n",
    "- 매개변수를 지정했다면, 반드시 인자값이 필요하다!!\n",
    "- 매개변수와 인자값의 개수는 반드시 일치해야한다!!!\n",
    "  \n",
    "  ```\n",
    "  def 함수이름(매개변수 = 인자값 = 인수) :\n",
    "      실행문\n",
    "      return 반환하고자 하는 값 입력\n",
    "  ```"
   ]
  },
  {
   "cell_type": "code",
   "execution_count": 5,
   "id": "5eeed04a-e30c-4060-bc9b-73bddf82cd45",
   "metadata": {},
   "outputs": [],
   "source": [
    "def func1() :\n",
    "    print(\"Hello\")\n",
    "    print(\"Hello\")\n",
    "    print(\"Hello\")\n",
    "    print(\"Hello\")"
   ]
  },
  {
   "cell_type": "code",
   "execution_count": 7,
   "id": "864e7f14-04a7-447c-9432-966b9dae7351",
   "metadata": {},
   "outputs": [
    {
     "name": "stdout",
     "output_type": "stream",
     "text": [
      "Hello\n",
      "Hello\n",
      "Hello\n",
      "Hello\n"
     ]
    }
   ],
   "source": [
    "func1()"
   ]
  },
  {
   "cell_type": "code",
   "execution_count": 20,
   "id": "6f3c5654-477d-4bba-a586-26bc56b2a43a",
   "metadata": {},
   "outputs": [],
   "source": [
    "def func2(parameter01, parameter02) :\n",
    "    # print(f\"Hello, {parameter01} {parameter02}\")\n",
    "    return f\"Hello, {parameter01} {parameter02}\""
   ]
  },
  {
   "cell_type": "code",
   "execution_count": 21,
   "id": "cfd84110-5499-4160-9964-a86a6a223ec5",
   "metadata": {
    "scrolled": true
   },
   "outputs": [
    {
     "data": {
      "text/plain": [
       "'Hello, Python World'"
      ]
     },
     "execution_count": 21,
     "metadata": {},
     "output_type": "execute_result"
    }
   ],
   "source": [
    "result = func2(\"Python\", \"World\")\n",
    "result"
   ]
  },
  {
   "cell_type": "code",
   "execution_count": 31,
   "id": "7301f215-696e-4737-9a62-46d2a79fc9e4",
   "metadata": {},
   "outputs": [],
   "source": [
    "def sum(a, b) :\n",
    "    c = 1 #지역변수 = local\n",
    "    result02 = a + b\n",
    "    return(result02)\n",
    "a = 1 #전역변수 = global"
   ]
  },
  {
   "cell_type": "code",
   "execution_count": 23,
   "id": "ee0f65b5-b0e3-4705-8216-4524bcc41be8",
   "metadata": {},
   "outputs": [
    {
     "data": {
      "text/plain": [
       "3"
      ]
     },
     "execution_count": 23,
     "metadata": {},
     "output_type": "execute_result"
    }
   ],
   "source": [
    "sum(1, 2)"
   ]
  },
  {
   "cell_type": "code",
   "execution_count": 25,
   "id": "cab73f29-ba83-47ed-957a-4fff33d39c66",
   "metadata": {},
   "outputs": [
    {
     "data": {
      "text/plain": [
       "1"
      ]
     },
     "execution_count": 25,
     "metadata": {},
     "output_type": "execute_result"
    }
   ],
   "source": [
    "a"
   ]
  },
  {
   "cell_type": "code",
   "execution_count": 32,
   "id": "ac02a386-ed60-4f96-a6f7-807ef48b17e1",
   "metadata": {},
   "outputs": [
    {
     "name": "stdout",
     "output_type": "stream",
     "text": [
      "1\n",
      "2\n",
      "3\n"
     ]
    }
   ],
   "source": [
    "for item in [1, 2, 3] :\n",
    "    print(item) #item => 블록변수 = block"
   ]
  },
  {
   "cell_type": "code",
   "execution_count": 33,
   "id": "9181267e-41a1-4109-9e4f-a9e8c0e18a25",
   "metadata": {},
   "outputs": [],
   "source": [
    "def func7(a) :\n",
    "    b = a + 1\n",
    "    return a, b"
   ]
  },
  {
   "cell_type": "code",
   "execution_count": 35,
   "id": "9c3f318b-7db7-4fa8-be9c-2fd5b5a7126d",
   "metadata": {},
   "outputs": [
    {
     "name": "stdout",
     "output_type": "stream",
     "text": [
      "(4, 5)\n",
      "<class 'tuple'>\n"
     ]
    }
   ],
   "source": [
    "result07 = func7(4)\n",
    "print(result07)\n",
    "print(type(result07))"
   ]
  },
  {
   "cell_type": "code",
   "execution_count": 37,
   "id": "56ac4650-62c5-4c6c-a2c3-d7b509b72835",
   "metadata": {},
   "outputs": [
    {
     "name": "stdout",
     "output_type": "stream",
     "text": [
      "<class 'str'>\n",
      "<class 'int'>\n",
      "<class 'bool'>\n",
      "<class 'list'>\n"
     ]
    }
   ],
   "source": [
    "print(type(\"str\"))\n",
    "print(type(1))\n",
    "print(type(True))\n",
    "print(type([1, 2, 3]))"
   ]
  },
  {
   "cell_type": "code",
   "execution_count": 41,
   "id": "abb18178-e1e4-4e94-9305-f34cafeb6b04",
   "metadata": {},
   "outputs": [],
   "source": [
    "def id_check(id) :\n",
    "    if id == \"admin\" :\n",
    "        print(\"invalid id : admin\")\n",
    "        return\n",
    "    print(\"valid id : \", id)"
   ]
  },
  {
   "cell_type": "code",
   "execution_count": 43,
   "id": "76b53915-1582-4f71-b6f3-a852ba20a948",
   "metadata": {},
   "outputs": [
    {
     "name": "stdout",
     "output_type": "stream",
     "text": [
      "valid id :  admin02\n"
     ]
    }
   ],
   "source": [
    "id_check(\"admin02\")"
   ]
  }
 ],
 "metadata": {
  "kernelspec": {
   "display_name": "Python [conda env:base] *",
   "language": "python",
   "name": "conda-base-py"
  },
  "language_info": {
   "codemirror_mode": {
    "name": "ipython",
    "version": 3
   },
   "file_extension": ".py",
   "mimetype": "text/x-python",
   "name": "python",
   "nbconvert_exporter": "python",
   "pygments_lexer": "ipython3",
   "version": "3.13.5"
  }
 },
 "nbformat": 4,
 "nbformat_minor": 5
}
