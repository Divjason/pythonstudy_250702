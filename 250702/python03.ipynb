{
 "cells": [
  {
   "cell_type": "markdown",
   "id": "4eba97a4-6ebd-460a-bd6c-2cfafb237755",
   "metadata": {},
   "source": [
    "#### 조건문\n",
    "```\n",
    "if 조건 :\n",
    "    실행문\n",
    "if 조건1 and 조건2 :\n",
    "    실행문\n",
    "if 조건1 or 조건2 :\n",
    "    실행문\n",
    "if not 조건 :\n",
    "    실행문\n",
    "```\n",
    "\n",
    "```\n",
    "if 조건 :\n",
    "    실행문\n",
    "else :\n",
    "    실행문\n",
    "```"
   ]
  },
  {
   "cell_type": "code",
   "execution_count": 3,
   "id": "5f0ba9b6-bbe8-44aa-a452-05d6332588e7",
   "metadata": {},
   "outputs": [
    {
     "name": "stdin",
     "output_type": "stream",
     "text": [
      "당신의 나이는? 26\n"
     ]
    },
    {
     "name": "stdout",
     "output_type": "stream",
     "text": [
      "당신은 성인입니다!\n",
      "축하드립니다!\n",
      "이제부터 인생은 시작입니다!\n",
      "무엇이든 할 수 있습니다!\n",
      "응원합니다!\n"
     ]
    }
   ],
   "source": [
    "age = int(input(\"당신의 나이는?\"))\n",
    "\n",
    "if age >= 19 :\n",
    "    print(\"당신은 성인입니다!\")\n",
    "    print(\"축하드립니다!\")\n",
    "    print(\"이제부터 인생은 시작입니다!\")\n",
    "    print(\"무엇이든 할 수 있습니다!\")\n",
    "    print(\"응원합니다!\")"
   ]
  },
  {
   "cell_type": "code",
   "execution_count": 4,
   "id": "21f61237-9060-4bb6-9d09-368f201207ac",
   "metadata": {},
   "outputs": [
    {
     "name": "stdin",
     "output_type": "stream",
     "text": [
      "인성이의 나이는? 20\n",
      "지섭이의 나이는? 20\n"
     ]
    },
    {
     "name": "stdout",
     "output_type": "stream",
     "text": [
      "영화관 입장 가능!\n"
     ]
    }
   ],
   "source": [
    "age1 = int(input(\"인성이의 나이는?\"))\n",
    "age2 = int(input(\"지섭이의 나이는?\"))\n",
    "\n",
    "if age1 >= 19 and age2 >= 19 :\n",
    "    print(\"영화관 입장 가능!\")"
   ]
  },
  {
   "cell_type": "code",
   "execution_count": 5,
   "id": "85610239-1ee7-406c-a805-8caa06862f27",
   "metadata": {},
   "outputs": [
    {
     "name": "stdin",
     "output_type": "stream",
     "text": [
      "인성이의 나이는? 18\n",
      "지섭이의 나이는? 24\n"
     ]
    },
    {
     "name": "stdout",
     "output_type": "stream",
     "text": [
      "영화관 입장 가능!\n"
     ]
    }
   ],
   "source": [
    "age1 = int(input(\"인성이의 나이는?\"))\n",
    "age2 = int(input(\"지섭이의 나이는?\"))\n",
    "\n",
    "if age1 >= 19 or age2 >= 19 :\n",
    "    print(\"영화관 입장 가능!\")"
   ]
  },
  {
   "cell_type": "code",
   "execution_count": 6,
   "id": "43b5a264-04d1-4a44-aac3-dd3df9b7fc6f",
   "metadata": {},
   "outputs": [
    {
     "name": "stdin",
     "output_type": "stream",
     "text": [
      "승원이의 나이는? 24\n"
     ]
    },
    {
     "name": "stdout",
     "output_type": "stream",
     "text": [
      "영화관 입장 가능!\n"
     ]
    }
   ],
   "source": [
    "age3 = int(input(\"승원이의 나이는?\"))\n",
    "\n",
    "if not age3 <= 19 :\n",
    "    print(\"영화관 입장 가능!\")"
   ]
  },
  {
   "cell_type": "code",
   "execution_count": 8,
   "id": "d588e16f-a04f-4442-83ac-15376af3dabd",
   "metadata": {},
   "outputs": [
    {
     "name": "stdin",
     "output_type": "stream",
     "text": [
      "현재 가지고 있는 현금은 얼마인가요? 1200000\n"
     ]
    },
    {
     "name": "stdout",
     "output_type": "stream",
     "text": [
      "오늘 저녁은 VIPS!\n"
     ]
    }
   ],
   "source": [
    "cash = int(input(\"현재 가지고 있는 현금은 얼마인가요?\"))\n",
    "\n",
    "if cash > 100000 :\n",
    "    print(\"오늘 저녁은 VIPS!\")\n",
    "else :\n",
    "    print(\"오늘 저녁은 집에서!\")"
   ]
  },
  {
   "cell_type": "markdown",
   "id": "47ceff3d-aa5d-407f-b583-d092931e3929",
   "metadata": {},
   "source": [
    "- 사용자로부터 나이를 입력받아서, 나이가 19세 이상이면 \"당신은 성인입니다\" 출력, 19세 미만이라고 한다면, \"당신은 청소년입니다\" 출력"
   ]
  },
  {
   "cell_type": "code",
   "execution_count": 13,
   "id": "7d4858e7-a45f-4dc7-9309-ac1766c735c1",
   "metadata": {},
   "outputs": [
    {
     "name": "stdin",
     "output_type": "stream",
     "text": [
      "당신의 나이는? 18\n"
     ]
    },
    {
     "name": "stdout",
     "output_type": "stream",
     "text": [
      "당신은 청소년입니다!\n"
     ]
    }
   ],
   "source": [
    "userAge = int(input(\"당신의 나이는?\"))\n",
    "\n",
    "if userAge >= 19 :\n",
    "    print(\"당신은 성인입니다!\")\n",
    "else :\n",
    "    print(\"당신은 청소년입니다!\")"
   ]
  },
  {
   "cell_type": "markdown",
   "id": "9275596a-356c-4c2f-a2a6-be148964092c",
   "metadata": {},
   "source": [
    "- 사용자로부터 나이를 입력 받아서, 나이가 19세 이상이면 당신은 성인입니다. 13세 이상 19세 미만이면 당신은 청소년 입니다. 13세 미만 5세 이상 당신은 아동입니다."
   ]
  },
  {
   "cell_type": "markdown",
   "id": "16c5dd25-d4e3-4e8e-9cb1-fc84ffa4be40",
   "metadata": {},
   "source": [
    "#### else문 유의사항\n",
    "- 어떤 조건문 안에서도 1회만 사용할 수 있음!!!\n",
    "- else문 조건문 중간에 절대 입력할 수 없음!!!\n",
    "- else문 독립적으로 조건식을 받을 수 없음!!!\n",
    "- else문은 조건문 내 반드시 작성해야하는 필수값은 아님!!!"
   ]
  },
  {
   "cell_type": "code",
   "execution_count": 20,
   "id": "afdd4d8b-7a4f-4bf1-8e90-82f6b5c4955f",
   "metadata": {},
   "outputs": [
    {
     "name": "stdin",
     "output_type": "stream",
     "text": [
      "나이는? 12\n"
     ]
    },
    {
     "name": "stdout",
     "output_type": "stream",
     "text": [
      "당신은 아동입니다!\n"
     ]
    }
   ],
   "source": [
    "age = int(input(\"나이는?\"))\n",
    "\n",
    "if age >= 19 :\n",
    "    print(\"당신은 성입니다!\")\n",
    "elif age >= 13 and age < 19 :\n",
    "    print(\"당신은 청소년입니다!\")\n",
    "else :\n",
    "    print(\"당신은 아동입니다!\")"
   ]
  },
  {
   "cell_type": "code",
   "execution_count": 23,
   "id": "fb1cb418-4272-47e0-983c-6ddb080150da",
   "metadata": {},
   "outputs": [
    {
     "name": "stdin",
     "output_type": "stream",
     "text": [
      "나이는? 5\n"
     ]
    },
    {
     "name": "stdout",
     "output_type": "stream",
     "text": [
      "당신은 아동입니다!\n"
     ]
    }
   ],
   "source": [
    "age = int(input(\"나이는?\"))\n",
    "\n",
    "if age >= 19 :\n",
    "    print(\"당신은 성입니다!\")\n",
    "elif age >= 13 and age < 19 :\n",
    "    print(\"당신은 청소년입니다!\")\n",
    "elif age >= 5 and age < 13 :\n",
    "    print(\"당신은 아동입니다!\")"
   ]
  },
  {
   "cell_type": "markdown",
   "id": "f1c567d7-cd97-479a-ab1b-a0a93521964b",
   "metadata": {},
   "source": [
    "- 사용자로부터 현재 현금이 얼마있는지 확인 후 10만원 이상이라면 레스토랑으로 갑시다! 출력, 그렇지 않은경우 만약 5만원 이상이라면 뷔페로 갑시다! 출력, 5만원 미만이라면 집으로 가세요! 라고 출력해주세요!"
   ]
  },
  {
   "cell_type": "code",
   "execution_count": 26,
   "id": "fb8c55a9-5961-411e-8566-7930fc56b6df",
   "metadata": {},
   "outputs": [
    {
     "name": "stdin",
     "output_type": "stream",
     "text": [
      "당신의 현금은? 30000\n"
     ]
    },
    {
     "name": "stdout",
     "output_type": "stream",
     "text": [
      "집으로 가세요!\n"
     ]
    }
   ],
   "source": [
    "cash = int(input(\"당신의 현금은?\"))\n",
    "\n",
    "if cash >= 100000 :\n",
    "    print(\"레스토랑으로 갑시다!\")\n",
    "else :\n",
    "    if cash >= 50000 :\n",
    "        print(\"뷔페로 갑시다!\")\n",
    "    else :\n",
    "        print(\"집으로 가세요!\")"
   ]
  },
  {
   "cell_type": "markdown",
   "id": "74671e43-9cb8-406e-964a-c2536906c99f",
   "metadata": {},
   "source": [
    "- 사용자로부터 얼마의 현금이 있는지 확인 후 10만원 초과인 경우, 레스토랑 출력, 그렇지 않은경우 만약 5만원 미만인 경우 집 출력, 7만원 초과인 경우, 패밀리레스토랑 출력, 6만원 초과인 경우, 한식집 출력, 그렇지 않으면 분식집 출력"
   ]
  },
  {
   "cell_type": "code",
   "execution_count": 38,
   "id": "ad20c07e-5230-4705-8996-362ff00850b2",
   "metadata": {},
   "outputs": [
    {
     "name": "stdin",
     "output_type": "stream",
     "text": [
      "당신의 현금은? 48000\n"
     ]
    },
    {
     "name": "stdout",
     "output_type": "stream",
     "text": [
      "집\n"
     ]
    }
   ],
   "source": [
    "cash = int(input(\"당신의 현금은?\"))\n",
    "\n",
    "if cash > 100000 :\n",
    "    print(\"레스토랑\")\n",
    "else :\n",
    "    if cash > 50000 :\n",
    "        if cash > 70000 :\n",
    "            print(\"패밀리레스토랑\")\n",
    "        elif cash > 60000 :\n",
    "            print(\"한식집\")\n",
    "        else :\n",
    "            print(\"분식집\")\n",
    "    else :\n",
    "        print(\"집\")"
   ]
  },
  {
   "cell_type": "markdown",
   "id": "50323e9f-549b-4d2d-98d0-031508a52728",
   "metadata": {},
   "source": [
    "- 사용자로부터 특정 숫자를 입력받은 후 해당 숫자가 홀수 인지, 짝수 인지 분별해서 출력해주세요!"
   ]
  },
  {
   "cell_type": "code",
   "execution_count": 40,
   "id": "4c5d1a81-a051-4a37-8860-e99556b49000",
   "metadata": {},
   "outputs": [
    {
     "name": "stdin",
     "output_type": "stream",
     "text": [
      " 5\n"
     ]
    },
    {
     "name": "stdout",
     "output_type": "stream",
     "text": [
      "홀수입니다.\n"
     ]
    }
   ],
   "source": [
    "num = int(input())\n",
    "\n",
    "if num % 2 == 0 :\n",
    "    print(\"짝수입니다.\")\n",
    "else :\n",
    "    print(\"홀수입니다.\")"
   ]
  },
  {
   "cell_type": "markdown",
   "id": "a87b7eb8-713f-4b1e-8e80-0a563a882cfe",
   "metadata": {},
   "source": [
    "- 사용자로부터 3개의 숫자를 입력받은 수 그중 가장 작은 숫자를 출력해주세요!"
   ]
  },
  {
   "cell_type": "code",
   "execution_count": 43,
   "id": "ecfe10aa-8df0-4fc1-bdfe-dda6848011a9",
   "metadata": {},
   "outputs": [
    {
     "name": "stdin",
     "output_type": "stream",
     "text": [
      " 8\n",
      " 4\n",
      " 1\n"
     ]
    },
    {
     "name": "stdout",
     "output_type": "stream",
     "text": [
      "1\n"
     ]
    }
   ],
   "source": [
    "num1 = int(input())\n",
    "num2 = int(input())\n",
    "num3 = int(input())\n",
    "\n",
    "if num1 <= num2 and num1 <= num3 :\n",
    "    print(num1)\n",
    "elif num2 <= num1 and num2 <= num3 :\n",
    "    print(num2)\n",
    "elif num3 <= num1 and num3 <= num2 :\n",
    "    print(num3)"
   ]
  },
  {
   "cell_type": "code",
   "execution_count": 44,
   "id": "8b749233-4849-4e59-8e14-d89c23e8c448",
   "metadata": {},
   "outputs": [
    {
     "name": "stdin",
     "output_type": "stream",
     "text": [
      " 10\n",
      " 9\n",
      " 8\n"
     ]
    },
    {
     "data": {
      "text/plain": [
       "8"
      ]
     },
     "execution_count": 44,
     "metadata": {},
     "output_type": "execute_result"
    }
   ],
   "source": [
    "num1 = int(input())\n",
    "num2 = int(input())\n",
    "num3 = int(input())\n",
    "\n",
    "min(num1, num2, num3)"
   ]
  },
  {
   "cell_type": "code",
   "execution_count": 45,
   "id": "538d2835-ee2d-410c-8aa0-dad662ccdf4b",
   "metadata": {},
   "outputs": [
    {
     "name": "stdin",
     "output_type": "stream",
     "text": [
      " 10\n",
      " 9\n",
      " 8\n"
     ]
    },
    {
     "data": {
      "text/plain": [
       "8"
      ]
     },
     "execution_count": 45,
     "metadata": {},
     "output_type": "execute_result"
    }
   ],
   "source": [
    "nums = [int(input()) for _ in range(3)]\n",
    "min(nums)"
   ]
  }
 ],
 "metadata": {
  "kernelspec": {
   "display_name": "Python [conda env:base] *",
   "language": "python",
   "name": "conda-base-py"
  },
  "language_info": {
   "codemirror_mode": {
    "name": "ipython",
    "version": 3
   },
   "file_extension": ".py",
   "mimetype": "text/x-python",
   "name": "python",
   "nbconvert_exporter": "python",
   "pygments_lexer": "ipython3",
   "version": "3.13.5"
  }
 },
 "nbformat": 4,
 "nbformat_minor": 5
}
