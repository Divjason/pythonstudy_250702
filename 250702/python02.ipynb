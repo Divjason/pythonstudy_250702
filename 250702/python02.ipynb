{
 "cells": [
  {
   "cell_type": "markdown",
   "id": "4f26ef60-f474-44dd-9360-b216567f3e14",
   "metadata": {},
   "source": [
    "#### 파이썬 입.출력 예시\n",
    "\n",
    "- 사용자로부터 두 개의 숫자를 입력받은 후 해당 두 개의 숫자를 더한 값을 출력하는 프로그램을 작성해보세요."
   ]
  },
  {
   "cell_type": "code",
   "execution_count": 1,
   "id": "37ed8001-4f36-4621-b90f-92656160a542",
   "metadata": {},
   "outputs": [
    {
     "name": "stdin",
     "output_type": "stream",
     "text": [
      " 10\n",
      " 10\n"
     ]
    },
    {
     "name": "stdout",
     "output_type": "stream",
     "text": [
      "합계 : 20\n"
     ]
    }
   ],
   "source": [
    "num1 = int(input())\n",
    "num2 = int(input())\n",
    "\n",
    "print(\"합계 :\", num1 + num2)"
   ]
  },
  {
   "cell_type": "markdown",
   "id": "7f534e7a-c7bd-41b9-9b92-bd36d2a4e490",
   "metadata": {},
   "source": [
    "- 사용자로부터 두 개의 숫자를 입력받은 후 곱한 값, 나눈 값, 나눈 몫, 나머지 값을 각각 출력하는 프로그램을 작성해보세요.ㅠ"
   ]
  },
  {
   "cell_type": "code",
   "execution_count": 4,
   "id": "3e9039c3-f2ef-470b-a80c-37cb62d2b536",
   "metadata": {},
   "outputs": [
    {
     "name": "stdin",
     "output_type": "stream",
     "text": [
      "첫 번째 숫자를 입력하세요 100\n",
      "두 번째 숫자를 입력하세요 10\n"
     ]
    },
    {
     "name": "stdout",
     "output_type": "stream",
     "text": [
      "곱한 값 : 1000\n",
      "나눈 값 : 100 / 10 = 10.0\n",
      "100 // 10 = 10\n",
      "나머지 값 : 100 % 10 = 0\n"
     ]
    }
   ],
   "source": [
    "num1 = int(input(\"첫 번째 숫자를 입력하세요\"))\n",
    "num2 = int(input(\"두 번째 숫자를 입력하세요\"))\n",
    "\n",
    "print(\"곱한 값 :\", num1 * num2)\n",
    "print(f\"나눈 값 : {num1} / {num2} = {num1 / num2}\")\n",
    "print(num1, \"//\", num2, \"=\", num1//num2)\n",
    "print(f\"나머지 값 : {num1} % {num2} = {num1 % num2}\")"
   ]
  },
  {
   "cell_type": "markdown",
   "id": "d8222948-5fc9-41c6-ab8d-8bbb36f5c490",
   "metadata": {},
   "source": [
    "#### 데이터 자료구조 리스트 (list)\n",
    "- 파이썬의 리스트 다른 프로그래밍 언어에서 주로 배열(array) 이라는 이름으로 많이 불림\n",
    "- 프로그래밍 언어 => 인간의 작업보다 효율적이다 => 패턴을 가지고 있는 반복적인 작업을 매우 빠르게 잘하기 때문!!!\n",
    "- 어떤 연산처리 작업을 반복해서 할 수 있는 형태의 자료구조여야만 위의 작업을 할 수 있음\n",
    "- 이터러블 = iterable = 반복적인 // class\n",
    "- 문자열 역시 이터러블한 속성을 가지고 있음\n",
    "- 리스트 자료구조는 내부에 입력된 값에 고유한 개별적인 인덱스(index)값을 부여!!"
   ]
  },
  {
   "cell_type": "markdown",
   "id": "ac9c59a4-1bf2-4b34-889d-44977a4df355",
   "metadata": {},
   "source": [
    "- 리스트는 각각 고유한 인덱스값을 가지고 있음 (0부터 시작함)\n",
    "- 리스트에서 특정 인덱스값을 찾아오고자 할 때 => 변수명[인덱스값] & 만약 오른쪽부터 값을 찾아오고 싶다면 -1 음수값부터 시작!\n",
    "- 문자열과 동일하게 슬라이싱 기능 있음 => 변수명[시작인덱스 : 종료인덱스 + 1]ㅠ\n",
    "- append() : 리스트 자료구조에서 왼쪽부터 신규로 값을 추가할 수 있도록 해주는 함수 => 한 번에 여러개 값을 추가할 수 없음!\n",
    "- insert() : 리스트 자료구조 안에 값을 추가할 수 있는 함수 => 첫번째 인덱스는 추가하고자 하는 위치, 두번째 인덱스는 추가하고자 하는 값을 의미\n",
    "- extend() : 리스트 자료구조에서 왼쪽부터 신규로 값을 추가하는데 있어서 복수의 값을 한 번에 추가할 수 있음!\n",
    "- remove() : 함수의 인자값을 리스트 자료구조의 왼쪽부터 서칭하다가 발견 시, 삭제해주는 함수\n",
    "- del : del 변수명[인덱스값] => 해당 인덱스값을 삭제해주는 함수\n",
    "- sort() : 리스트 안에 있는 값을 오름차순으로 정렬할 때 사용하는 함수\n",
    "- reverse() : 리스트 안에 있는 값을 내림차순으로 정렬할 때 사용하는 함수\n",
    "- split() : 문자열의 자료형태를 인자값을 기준으로 나눠서 리스트 자료형태로 변환시켜주는 함수"
   ]
  },
  {
   "cell_type": "markdown",
   "id": "fb6acdd7-a215-4731-8904-9e6b01868c1a",
   "metadata": {},
   "source": [
    "#### 리스트 자료구조 생성하는 방법\n",
    "- 변수 선언과 함께 직접 대괄호 입력 후 내부에 요소들을 입력하는 방법\n",
    "- 아무런 값도 존재하지 않는 빈 리스트를 만들어놓고 값을 하나씩 채워가는 방법\n",
    "- 파이썬 내 클래스 문법을 통해서 이미 생성된 리스트 프로토타입을 활용해서 인스턴스 객체를 생성하는 방법"
   ]
  },
  {
   "cell_type": "code",
   "execution_count": 7,
   "id": "97451f1a-7ade-4036-be15-86c3eea7488c",
   "metadata": {},
   "outputs": [
    {
     "name": "stdout",
     "output_type": "stream",
     "text": [
      "오마이뉴스\n",
      "한국일보\n",
      "시사인\n",
      "뉴시스\n",
      "KBSNEWS\n",
      "스포츠조선\n"
     ]
    }
   ],
   "source": [
    "mydata = [\"hello\", 1, 2, \"world\"]\n",
    "news = [\"오마이뉴스\", \"한국일보\", \"시사인\", \"뉴시스\", \"KBSNEWS\", \"스포츠조선\"]\n",
    "\n",
    "for media in news :\n",
    "    print(media)"
   ]
  },
  {
   "cell_type": "code",
   "execution_count": 8,
   "id": "ddf2c4f9-6e6c-43f4-ae9f-412d7c3f8934",
   "metadata": {},
   "outputs": [
    {
     "name": "stdout",
     "output_type": "stream",
     "text": [
      "서울시\n",
      "경기도\n",
      "인천시\n",
      "['서울시', '경기도', '인천시']\n",
      "<class 'list'>\n"
     ]
    }
   ],
   "source": [
    "location = [\"서울시\", \"경기도\", \"인천시\"]\n",
    "\n",
    "print(location[0])\n",
    "print(location[1])\n",
    "print(location[2])\n",
    "print(location)\n",
    "print(type(location))"
   ]
  },
  {
   "cell_type": "code",
   "execution_count": 12,
   "id": "5b46f5ae-cc51-40db-97a7-f881bdea4829",
   "metadata": {},
   "outputs": [
    {
     "name": "stdout",
     "output_type": "stream",
     "text": [
      "['서울시', '경기도', '인천시', '부산시', '부산시', '부산시', '부산시']\n"
     ]
    }
   ],
   "source": [
    "location.append(\"부산시\")\n",
    "\n",
    "print(location)\n",
    "# location"
   ]
  },
  {
   "cell_type": "code",
   "execution_count": 14,
   "id": "e9c705df-a078-4f61-b937-ced608e78a8b",
   "metadata": {},
   "outputs": [],
   "source": [
    "location.append(\"완도군\")"
   ]
  },
  {
   "cell_type": "code",
   "execution_count": 15,
   "id": "a1d6230b-2781-4204-a099-ea8487fcb72c",
   "metadata": {},
   "outputs": [
    {
     "data": {
      "text/plain": [
       "['서울시', '경기도', '인천시', '부산시', '부산시', '부산시', '부산시', '완도군']"
      ]
     },
     "execution_count": 15,
     "metadata": {},
     "output_type": "execute_result"
    }
   ],
   "source": [
    "location"
   ]
  },
  {
   "cell_type": "code",
   "execution_count": 17,
   "id": "17b68e89-045f-4c0b-af06-e732365356c4",
   "metadata": {},
   "outputs": [
    {
     "data": {
      "text/plain": [
       "'부산시'"
      ]
     },
     "execution_count": 17,
     "metadata": {},
     "output_type": "execute_result"
    }
   ],
   "source": [
    "location[-2]"
   ]
  },
  {
   "cell_type": "code",
   "execution_count": 18,
   "id": "b72bd119-5b93-4968-a9b5-3e2d1c73e8d5",
   "metadata": {},
   "outputs": [
    {
     "data": {
      "text/plain": [
       "['경기도', '인천시']"
      ]
     },
     "execution_count": 18,
     "metadata": {},
     "output_type": "execute_result"
    }
   ],
   "source": [
    "location[1:3]"
   ]
  },
  {
   "cell_type": "code",
   "execution_count": 19,
   "id": "11b195f4-0998-44a8-a9c7-90805c5f1b5d",
   "metadata": {},
   "outputs": [],
   "source": [
    "location.remove(\"부산시\")"
   ]
  },
  {
   "cell_type": "code",
   "execution_count": 20,
   "id": "235abba6-f91b-4ad2-8c37-afe347229df1",
   "metadata": {},
   "outputs": [
    {
     "data": {
      "text/plain": [
       "['서울시', '경기도', '인천시', '부산시', '부산시', '부산시', '완도군']"
      ]
     },
     "execution_count": 20,
     "metadata": {},
     "output_type": "execute_result"
    }
   ],
   "source": [
    "location"
   ]
  },
  {
   "cell_type": "code",
   "execution_count": 21,
   "id": "ad4ef5fd-9ead-4e0d-be2c-09e2a066b77a",
   "metadata": {},
   "outputs": [],
   "source": [
    "location.remove(\"완도군\")"
   ]
  },
  {
   "cell_type": "code",
   "execution_count": 22,
   "id": "1004f9d3-ba4d-4008-b378-62ab48cc658d",
   "metadata": {},
   "outputs": [
    {
     "data": {
      "text/plain": [
       "['서울시', '경기도', '인천시', '부산시', '부산시', '부산시']"
      ]
     },
     "execution_count": 22,
     "metadata": {},
     "output_type": "execute_result"
    }
   ],
   "source": [
    "location"
   ]
  },
  {
   "cell_type": "code",
   "execution_count": 24,
   "id": "c6a48d34-a204-4709-8ad6-05df005cc6db",
   "metadata": {},
   "outputs": [],
   "source": [
    "del location[3]"
   ]
  },
  {
   "cell_type": "code",
   "execution_count": 25,
   "id": "8e907f08-f565-48e6-85ac-2c9f22c475d2",
   "metadata": {},
   "outputs": [
    {
     "data": {
      "text/plain": [
       "['서울시', '경기도', '인천시', '부산시', '부산시']"
      ]
     },
     "execution_count": 25,
     "metadata": {},
     "output_type": "execute_result"
    }
   ],
   "source": [
    "location"
   ]
  },
  {
   "cell_type": "code",
   "execution_count": 26,
   "id": "6979b52f-6fdc-436b-8dac-e3d4dda08b1a",
   "metadata": {},
   "outputs": [],
   "source": [
    "del location[3]"
   ]
  },
  {
   "cell_type": "code",
   "execution_count": 29,
   "id": "bc025882-18d2-4558-b5fb-c5a8f87535ed",
   "metadata": {},
   "outputs": [
    {
     "data": {
      "text/plain": [
       "['서울시', '경기도', '인천시', '부산시']"
      ]
     },
     "execution_count": 29,
     "metadata": {},
     "output_type": "execute_result"
    }
   ],
   "source": [
    "location"
   ]
  },
  {
   "cell_type": "code",
   "execution_count": 30,
   "id": "eb7d28fc-f187-4735-b2a9-402d3b4f3da2",
   "metadata": {},
   "outputs": [],
   "source": [
    "location.extend([\"천안\", \"대구\"])"
   ]
  },
  {
   "cell_type": "code",
   "execution_count": 31,
   "id": "44033d71-1569-41c3-95a7-d9c9e9c0eee3",
   "metadata": {},
   "outputs": [
    {
     "data": {
      "text/plain": [
       "['서울시', '경기도', '인천시', '부산시', '천안', '대구']"
      ]
     },
     "execution_count": 31,
     "metadata": {},
     "output_type": "execute_result"
    }
   ],
   "source": [
    "location"
   ]
  },
  {
   "cell_type": "code",
   "execution_count": 32,
   "id": "4a6b1206-573c-4f59-a8fa-896d0e3b775c",
   "metadata": {},
   "outputs": [],
   "source": [
    "location.insert(0, \"제주도\")"
   ]
  },
  {
   "cell_type": "code",
   "execution_count": 33,
   "id": "65bb6300-a9d4-4ccc-a6d6-2ba63fd2a3b4",
   "metadata": {},
   "outputs": [
    {
     "data": {
      "text/plain": [
       "['제주도', '서울시', '경기도', '인천시', '부산시', '천안', '대구']"
      ]
     },
     "execution_count": 33,
     "metadata": {},
     "output_type": "execute_result"
    }
   ],
   "source": [
    "location"
   ]
  },
  {
   "cell_type": "code",
   "execution_count": 34,
   "id": "b0877781-4339-4377-9c13-a5461dbcbbe9",
   "metadata": {},
   "outputs": [
    {
     "data": {
      "text/plain": [
       "list"
      ]
     },
     "execution_count": 34,
     "metadata": {},
     "output_type": "execute_result"
    }
   ],
   "source": [
    "location01 = []\n",
    "\n",
    "type(location01)"
   ]
  },
  {
   "cell_type": "code",
   "execution_count": 35,
   "id": "85a93271-1cc4-4629-9f6f-adfb1e50069e",
   "metadata": {},
   "outputs": [],
   "source": [
    "location01.append(\"강원도\")"
   ]
  },
  {
   "cell_type": "code",
   "execution_count": 36,
   "id": "b3da2cac-2306-44e2-b819-7f290cbb4ff9",
   "metadata": {},
   "outputs": [
    {
     "data": {
      "text/plain": [
       "['강원도']"
      ]
     },
     "execution_count": 36,
     "metadata": {},
     "output_type": "execute_result"
    }
   ],
   "source": [
    "location01"
   ]
  },
  {
   "cell_type": "code",
   "execution_count": 40,
   "id": "3233f756-18c0-47b8-a92d-1a6e32440707",
   "metadata": {},
   "outputs": [
    {
     "name": "stdout",
     "output_type": "stream",
     "text": [
      "<class 'list'>\n"
     ]
    }
   ],
   "source": [
    "location02 = list()\n",
    "print(type(location02))"
   ]
  },
  {
   "cell_type": "code",
   "execution_count": 43,
   "id": "65d92960-8b15-4e82-bffb-c0bfcaa1b238",
   "metadata": {},
   "outputs": [
    {
     "name": "stdout",
     "output_type": "stream",
     "text": [
      "[2, 1, 4, 3]\n",
      "[1, 2, 3, 4]\n",
      "[4, 3, 2, 1]\n"
     ]
    }
   ],
   "source": [
    "numbers = [2, 1, 4, 3]\n",
    "print(numbers)\n",
    "\n",
    "numbers.sort()\n",
    "print(numbers)\n",
    "\n",
    "numbers.reverse()\n",
    "print(numbers)"
   ]
  },
  {
   "cell_type": "code",
   "execution_count": 46,
   "id": "738dcfcd-5592-4cab-ab94-94decc6106fb",
   "metadata": {},
   "outputs": [
    {
     "data": {
      "text/plain": [
       "'python'"
      ]
     },
     "execution_count": 46,
     "metadata": {},
     "output_type": "execute_result"
    }
   ],
   "source": [
    "pythonBasic = \"python is easy\"\n",
    "pylist = pythonBasic.split()\n",
    "pylist[0]"
   ]
  }
 ],
 "metadata": {
  "kernelspec": {
   "display_name": "Python [conda env:base] *",
   "language": "python",
   "name": "conda-base-py"
  },
  "language_info": {
   "codemirror_mode": {
    "name": "ipython",
    "version": 3
   },
   "file_extension": ".py",
   "mimetype": "text/x-python",
   "name": "python",
   "nbconvert_exporter": "python",
   "pygments_lexer": "ipython3",
   "version": "3.13.5"
  }
 },
 "nbformat": 4,
 "nbformat_minor": 5
}
