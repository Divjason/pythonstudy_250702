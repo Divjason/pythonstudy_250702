{
 "cells": [
  {
   "attachments": {},
   "cell_type": "markdown",
   "id": "255c1e63-772c-4edf-83e5-6f27064cd7df",
   "metadata": {},
   "source": [
    "#### 1. 다음 사이트를 크롤링 할 수 있도록 BS4, requests를 활용해서 기본 세팅해주세요!!\n",
    "- https://davelee-fun.github.io/"
   ]
  },
  {
   "cell_type": "code",
   "execution_count": 2,
   "id": "8e53c48e-73bc-4d3c-aa2c-21a5b2861ac6",
   "metadata": {},
   "outputs": [],
   "source": [
    "import requests\n",
    "from bs4 import BeautifulSoup\n",
    "\n",
    "res = requests.get(\"https://davelee-fun.github.io/\")\n",
    "soup = BeautifulSoup(res.content, \"html.parser\")"
   ]
  },
  {
   "cell_type": "markdown",
   "id": "b2e0026e-6d2a-4390-a324-490ef99bede9",
   "metadata": {},
   "source": [
    "#### 2. 현재 쇼핑몰 내 우측 상단 Blog, About 메뉴명을 크롤링해서 출력해주세요!"
   ]
  },
  {
   "cell_type": "code",
   "execution_count": 7,
   "id": "eaaa8693-d095-4a45-b3b4-0f2be245fd15",
   "metadata": {},
   "outputs": [
    {
     "name": "stdout",
     "output_type": "stream",
     "text": [
      "\n",
      "Blog\n",
      "\n",
      "\n",
      "About\n",
      "\n"
     ]
    }
   ],
   "source": [
    "import requests\n",
    "from bs4 import BeautifulSoup\n",
    "\n",
    "url = \"https://davelee-fun.github.io/\"\n",
    "\n",
    "res = requests.get(url)\n",
    "soup = BeautifulSoup(res.content, \"html.parser\")\n",
    "\n",
    "items = soup.select(\"li.nav-item\")\n",
    "\n",
    "for item in items :\n",
    "    print(item.get_text())"
   ]
  },
  {
   "cell_type": "markdown",
   "id": "f897bb28-79a4-4ea6-8d15-f9ba7f66b1a6",
   "metadata": {},
   "source": [
    "#### 3. 현재 찾아온 메뉴명 중에서 가상클래스 active가 적용된 메뉴명만 출력해주세요."
   ]
  },
  {
   "cell_type": "code",
   "execution_count": 12,
   "id": "7fffa781-5ac4-4ba8-ada1-ae22d3faaf14",
   "metadata": {},
   "outputs": [
    {
     "name": "stdout",
     "output_type": "stream",
     "text": [
      "Blog\n"
     ]
    }
   ],
   "source": [
    "import requests\n",
    "from bs4 import BeautifulSoup\n",
    "\n",
    "url = \"https://davelee-fun.github.io/\"\n",
    "\n",
    "res = requests.get(url)\n",
    "soup = BeautifulSoup(res.content, \"html.parser\")\n",
    "\n",
    "item = soup.select_one(\"li.nav-item.active\")\n",
    "print(item.get_text().strip())\n",
    "\n",
    "# for item in items :\n",
    "#     print(item.get_text())"
   ]
  },
  {
   "cell_type": "markdown",
   "id": "685d16ac-00c2-49b8-a746-9eaa4d024d9b",
   "metadata": {},
   "source": [
    "#### 4. 현재 사이트에서 sitetitle이라는 클래스 값을 가지고 있는 h1 태그 안 텍스트를 출력해주세용!!!"
   ]
  },
  {
   "cell_type": "code",
   "execution_count": 14,
   "id": "5f14e9e3-5eae-4238-9a92-18f72e29ff71",
   "metadata": {},
   "outputs": [
    {
     "name": "stdout",
     "output_type": "stream",
     "text": [
      "Teddy의 선물 블로그\n"
     ]
    }
   ],
   "source": [
    "item = soup.select_one(\"h1.sitetitle\")\n",
    "print(item.string)"
   ]
  },
  {
   "cell_type": "markdown",
   "id": "7bf20246-75c5-44d4-b376-a9d6e799e8aa",
   "metadata": {},
   "source": [
    "#### 5. 현재 사이트에서 \"선물하기 좋은 선물을 고르고 골라서 소개하는 블로그입니다.\" 라는 서브타이틀을 찾아서 크롤링해서 출력해주세요!"
   ]
  },
  {
   "cell_type": "code",
   "execution_count": 19,
   "id": "50d16886-6fb8-4271-ab38-432fa6324588",
   "metadata": {},
   "outputs": [
    {
     "name": "stdout",
     "output_type": "stream",
     "text": [
      "선물하기 좋은 선물을 고르고 골라서 소개하는 블로그입니다.\n"
     ]
    }
   ],
   "source": [
    "item = soup.select_one(\"p.lead\")\n",
    "print(item.string.strip())"
   ]
  },
  {
   "cell_type": "markdown",
   "id": "86f43438-a2f9-4f3b-878f-10acfe330534",
   "metadata": {},
   "source": [
    "#### 6. 현재 사이트에서 Featured 카테고리에 속해있는 상품들의 상품명만 가져와서 출력해주세요!"
   ]
  },
  {
   "cell_type": "code",
   "execution_count": 23,
   "id": "5eb0ef0f-a32f-4f51-9643-7bed20f68b0c",
   "metadata": {},
   "outputs": [
    {
     "name": "stdout",
     "output_type": "stream",
     "text": [
      " 보몽드 순면스퀘어 솔리드 누빔매트커버, 다크블루\n",
      " 슈에뜨룸 선인장 리플 침구 세트, 베이지\n",
      " 선우랜드 레인보우 2단 문걸이용 옷걸이 _중형, 화이트, 상세페이지참조\n",
      " 보드래 헬로우 누빔 매트리스커버, 핑크\n",
      " 보드래 퍼펙트 누빔 매트리스커버, 차콜\n",
      " 피아블 클래식 방수 매트리스커버, 화이트\n",
      " 더자리 에코항균 마이크로 매트리스커버, 밀키차콜그레이\n",
      " 더자리 프레쉬 퓨어 매트리스 커버, 퓨어 차콜그레이\n",
      " 몽쉐어 알러스킨 항균 매트리스 커버, 카키그레이\n",
      " 쿠팡 브랜드 - 코멧 홈 40수 트윌 순면 100% 홑겹 매트리스커버, 그레이\n",
      " 패브릭아트 항균 마이크로 원단 매트리스 커버, 아이보리\n",
      " 바숨 순면 누빔 침대 매트리스커버, 차콜\n",
      " WEMAX 다용도 문옷걸이, 화이트, 1개\n",
      " 타카타카 프리미엄 나노 화이바 누빔 매트리스 커버, 젠틀핑핑\n",
      " 보몽드 순면스퀘어 누빔매트커버, 다크그레이\n",
      " 보드래 국내산 순면 60수 누빔 매트리스커버, 그레이\n"
     ]
    }
   ],
   "source": [
    "items = soup.select(\"h4.card-text\")\n",
    "for item in items :\n",
    "    print(item.string.strip().split(\":\")[1])"
   ]
  },
  {
   "cell_type": "markdown",
   "id": "05ab1084-56e3-459d-9732-421698228cf6",
   "metadata": {},
   "source": [
    "#### 7. 현재 사이트에서 All Stories 카테고리에 속해있는 상품들의 상품명만 가져와서 출력해주세요!"
   ]
  },
  {
   "cell_type": "code",
   "execution_count": 31,
   "id": "aaa9ee4b-5d30-4ebb-ada8-5baf664a8701",
   "metadata": {},
   "outputs": [
    {
     "name": "stdout",
     "output_type": "stream",
     "text": [
      " 보드래 퍼펙트 누빔 매트리스커버, 차콜\n",
      " 피아블 클래식 방수 매트리스커버, 화이트\n",
      " 더자리 에코항균 마이크로 매트리스커버, 밀키차콜그레이\n",
      " 더자리 프레쉬 퓨어 매트리스 커버, 퓨어 차콜그레이\n",
      " 몽쉐어 알러스킨 항균 매트리스 커버, 카키그레이\n",
      " 쿠팡 브랜드 - 코멧 홈 40수 트윌 순면 100% 홑겹 매트리스커버, 그레이\n",
      " 패브릭아트 항균 마이크로 원단 매트리스 커버, 아이보리\n",
      " 바숨 순면 누빔 침대 매트리스커버, 차콜\n",
      " WEMAX 다용도 문옷걸이, 화이트, 1개\n",
      " 타카타카 프리미엄 나노 화이바 누빔 매트리스 커버, 젠틀핑핑\n",
      " 보몽드 순면스퀘어 누빔매트커버, 다크그레이\n",
      " 보드래 국내산 순면 60수 누빔 매트리스커버, 그레이\n"
     ]
    }
   ],
   "source": [
    "import requests\n",
    "from bs4 import BeautifulSoup\n",
    "\n",
    "url = \"https://davelee-fun.github.io/\"\n",
    "\n",
    "res = requests.get(url)\n",
    "soup = BeautifulSoup(res.content, \"html.parser\")\n",
    "\n",
    "allstories = soup.select_one(\".recent-posts\")\n",
    "items = allstories.select(\"h4.card-text\")\n",
    "\n",
    "for item in items :\n",
    "    print(item.string.strip().split(\":\")[1])"
   ]
  },
  {
   "cell_type": "markdown",
   "id": "5d48daa9-40c6-49c8-9dc8-a06eefc83a0e",
   "metadata": {},
   "source": [
    "#### 8. 현재 사이트에서 \"Never miss a story from us, subscribe to our newsletter\"가져와서 출력해주세요!"
   ]
  },
  {
   "cell_type": "code",
   "execution_count": 36,
   "id": "159a3528-73d7-4e22-b0d1-7a77e4b23a72",
   "metadata": {},
   "outputs": [
    {
     "name": "stdout",
     "output_type": "stream",
     "text": [
      "Never miss a story from us, subscribe to our newsletter\n"
     ]
    }
   ],
   "source": [
    "item = soup.select_one(\"div.container.text-center\")\n",
    "print(item.get_text().strip())"
   ]
  }
 ],
 "metadata": {
  "kernelspec": {
   "display_name": "Python [conda env:base] *",
   "language": "python",
   "name": "conda-base-py"
  },
  "language_info": {
   "codemirror_mode": {
    "name": "ipython",
    "version": 3
   },
   "file_extension": ".py",
   "mimetype": "text/x-python",
   "name": "python",
   "nbconvert_exporter": "python",
   "pygments_lexer": "ipython3",
   "version": "3.13.5"
  }
 },
 "nbformat": 4,
 "nbformat_minor": 5
}
