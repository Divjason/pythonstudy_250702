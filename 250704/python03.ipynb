{
 "cells": [
  {
   "cell_type": "markdown",
   "id": "bb22d51b-3f86-456a-9ea1-54000ddfb72c",
   "metadata": {},
   "source": [
    "#### 자료구조 : set = 집합\n",
    "- 서로 다른 그룹 간 연산 작업을 보다 쉽게 하기 위한 목적으로 탄생된 자료구조\n",
    "- set() // list() // tuple() // dict()\n",
    "- 리스트 (*각각의 세부값에 인덱스 값을 부여, 이터러블한 객체, 반복문)\n",
    "- 튜플 (*각각의 세부값에 인덱스 값을 부여, 이터러블한 객체, 반복문)\n",
    "- 딕셔너리 (*각각의 세부값에 인덱스 값을 부여 x, 이터러블한 객체 x, 반복문)\n",
    "- 세트 = 집합 (*인덱스 값을 부여받지 않음, 이터러블한 객체, 반복문)\n",
    "- 크롤링 시, 찾아온 값이 거의 대부분 리스트형태로 들어옴!!! => 굳이 반복적으로 불필요하게 값을 찾아오는 경우 부지기수 => 중복된 값을 하나로 정리하는 기능을 가장 많이 사용함!!"
   ]
  },
  {
   "cell_type": "code",
   "execution_count": 2,
   "id": "e8146c9b-7a93-4e6a-8a3e-8bb8acc0bda1",
   "metadata": {},
   "outputs": [
    {
     "data": {
      "text/plain": [
       "set"
      ]
     },
     "execution_count": 2,
     "metadata": {},
     "output_type": "execute_result"
    }
   ],
   "source": [
    "data_set01 = set()\n",
    "type(data_set01)"
   ]
  },
  {
   "cell_type": "code",
   "execution_count": 4,
   "id": "7a857bef-c479-4ebc-a181-588d1f60b560",
   "metadata": {},
   "outputs": [
    {
     "data": {
      "text/plain": [
       "{'apple', 'dell', 'lg', 'samsung'}"
      ]
     },
     "execution_count": 4,
     "metadata": {},
     "output_type": "execute_result"
    }
   ],
   "source": [
    "data_set02 = {\"apple\", \"dell\", \"samsung\", \"lg\"}\n",
    "data_set02"
   ]
  },
  {
   "cell_type": "code",
   "execution_count": 6,
   "id": "c9fc5d2f-11aa-4905-b811-bd7ea97b04b5",
   "metadata": {},
   "outputs": [
    {
     "data": {
      "text/plain": [
       "{'a', 'e', 'l', 'p'}"
      ]
     },
     "execution_count": 6,
     "metadata": {},
     "output_type": "execute_result"
    }
   ],
   "source": [
    "data_set03 = set(\"apple\")\n",
    "data_set03"
   ]
  },
  {
   "cell_type": "code",
   "execution_count": 8,
   "id": "29868798-d52a-4f98-9230-340ade8f1780",
   "metadata": {},
   "outputs": [
    {
     "data": {
      "text/plain": [
       "{'jyp', 'sm'}"
      ]
     },
     "execution_count": 8,
     "metadata": {},
     "output_type": "execute_result"
    }
   ],
   "source": [
    "# data_set04 = set(\"sm\", \"jyp\")\n",
    "\n",
    "{\"sm\", \"jyp\"}"
   ]
  },
  {
   "cell_type": "code",
   "execution_count": 9,
   "id": "991db834-c702-49a3-b757-c3579cc887e5",
   "metadata": {},
   "outputs": [
    {
     "name": "stdout",
     "output_type": "stream",
     "text": [
      "apple\n",
      "lg\n",
      "dell\n",
      "samsung\n"
     ]
    }
   ],
   "source": [
    "for data in data_set02 :\n",
    "    print(data)"
   ]
  },
  {
   "cell_type": "code",
   "execution_count": 13,
   "id": "4f43239e-4efe-47f8-96d4-2ecfd69aecef",
   "metadata": {},
   "outputs": [
    {
     "name": "stdout",
     "output_type": "stream",
     "text": [
      "False\n",
      "True\n"
     ]
    }
   ],
   "source": [
    "# data_set02[0]\n",
    "\n",
    "print(\"motorola\" in data_set02)\n",
    "print(\"apple\" in data_set02)"
   ]
  },
  {
   "cell_type": "code",
   "execution_count": 14,
   "id": "7cc957ad-b68a-4d56-ba06-b270085ed886",
   "metadata": {},
   "outputs": [],
   "source": [
    "data04 = {\"피카츄\", \"라이츄\", \"꼬부기\"}"
   ]
  },
  {
   "cell_type": "code",
   "execution_count": 17,
   "id": "e744353f-b715-4c20-b66d-01e069db2fdc",
   "metadata": {},
   "outputs": [],
   "source": [
    "data05 = {\"잠만보\", \"파이리\", \"피카츄\"}"
   ]
  },
  {
   "cell_type": "code",
   "execution_count": 19,
   "id": "6a6a88c6-849c-416d-8de1-49610940c027",
   "metadata": {},
   "outputs": [
    {
     "data": {
      "text/plain": [
       "{'피카츄'}"
      ]
     },
     "execution_count": 19,
     "metadata": {},
     "output_type": "execute_result"
    }
   ],
   "source": [
    "data04 & data05 #교집합"
   ]
  },
  {
   "cell_type": "code",
   "execution_count": 21,
   "id": "cc50c18d-e5cd-4b72-975e-fe21d94ad459",
   "metadata": {},
   "outputs": [
    {
     "data": {
      "text/plain": [
       "{'꼬부기', '라이츄', '잠만보', '파이리', '피카츄'}"
      ]
     },
     "execution_count": 21,
     "metadata": {},
     "output_type": "execute_result"
    }
   ],
   "source": [
    "data04 | data05 #합집합"
   ]
  },
  {
   "cell_type": "code",
   "execution_count": 22,
   "id": "6fc2e5c4-baff-417d-979f-b313dd6864a8",
   "metadata": {},
   "outputs": [
    {
     "data": {
      "text/plain": [
       "{'꼬부기', '라이츄'}"
      ]
     },
     "execution_count": 22,
     "metadata": {},
     "output_type": "execute_result"
    }
   ],
   "source": [
    "data04 - data05"
   ]
  },
  {
   "cell_type": "code",
   "execution_count": 23,
   "id": "332d9ab5-d97d-42d2-8a8a-eef6e4bfa61a",
   "metadata": {},
   "outputs": [
    {
     "data": {
      "text/plain": [
       "{'잠만보', '파이리'}"
      ]
     },
     "execution_count": 23,
     "metadata": {},
     "output_type": "execute_result"
    }
   ],
   "source": [
    "data05 - data04"
   ]
  },
  {
   "cell_type": "code",
   "execution_count": 24,
   "id": "b9c533da-24e4-4f8b-941b-ad3e32ad5952",
   "metadata": {},
   "outputs": [
    {
     "data": {
      "text/plain": [
       "{'꼬부기', '라이츄', '잠만보', '파이리'}"
      ]
     },
     "execution_count": 24,
     "metadata": {},
     "output_type": "execute_result"
    }
   ],
   "source": [
    "data04 ^ data05"
   ]
  }
 ],
 "metadata": {
  "kernelspec": {
   "display_name": "Python [conda env:base] *",
   "language": "python",
   "name": "conda-base-py"
  },
  "language_info": {
   "codemirror_mode": {
    "name": "ipython",
    "version": 3
   },
   "file_extension": ".py",
   "mimetype": "text/x-python",
   "name": "python",
   "nbconvert_exporter": "python",
   "pygments_lexer": "ipython3",
   "version": "3.13.5"
  }
 },
 "nbformat": 4,
 "nbformat_minor": 5
}
