{
 "cells": [
  {
   "cell_type": "markdown",
   "id": "b443a2d2-7cf5-46b2-bdf8-ebf991bc0263",
   "metadata": {},
   "source": [
    "- 사용자로부터 어떤 값을 받고, 해당 값을 한화 (*한국돈)으로 바꿔서 출력되도록 해주세요.\n",
    "- ex) 100 => 환율 1112원 // 111200원 으로 출력되도록 해주세요."
   ]
  },
  {
   "cell_type": "code",
   "execution_count": 5,
   "id": "582f9e6a-d7f1-4e6b-8e34-8253c14fa78d",
   "metadata": {},
   "outputs": [
    {
     "name": "stdin",
     "output_type": "stream",
     "text": [
      "환전하고 싶은 달러를 입력해주세요, ex)100달러 100달러\n"
     ]
    },
    {
     "name": "stdout",
     "output_type": "stream",
     "text": [
      "111,200원\n"
     ]
    }
   ],
   "source": [
    "# 수학 => Math x\n",
    "# 수학능력평가시험 => 수학 => 논리성!!!\n",
    "# 문제를 풀던 못풀던 간에 일단 내가 해결하고 싶은 것을 말로 표현!!!\n",
    "# 국어\n",
    "\n",
    "# 1.사용자에게 값을 받는다 (완료)\n",
    "# input()\n",
    "\n",
    "# 2.사전에 환율을 정의해서 특정 변수에 할당해 놓는다 (완료)\n",
    "# 변수 정의만하면 됨\n",
    "\n",
    "# 3.사용자에게 받은 값을 사전에 정의해놓은 환율과 계산한다\n",
    "# 연산자만 알면 됨\n",
    "\n",
    "# 4.사용자의 값과 환율을 계산한 그 결과값을 출력한다\n",
    "# print()\n",
    "\n",
    "price = input(\"환전하고 싶은 달러를 입력해주세요, ex)100달러\")\n",
    "exchange = 1112\n",
    "\n",
    "dollar = int(price.replace(\"달러\", \"\"))\n",
    "result = dollar * exchange \n",
    "\n",
    "print(f\"{result:,}원\")"
   ]
  },
  {
   "cell_type": "markdown",
   "id": "3b892389-a4cd-4be8-8356-40fa1fa94f9f",
   "metadata": {},
   "source": [
    "- 달러의 환율을 1112원 설정, 위안화의 환율을 171원 설정, 엔화의 환율을 1010원 설정을 하시되, 해당 화폐당 환율의 값을 딕셔너리라는 자료구조로 정의하시고, 사용자가 달러 혹은 엔화 혹은 위안화 값을 입력했을 때, 해당 값을 한화로 바꿔서 출력될 수 있도록 해주세요!!!\n",
    "- ex) 100달러 => 111,200원 // 100위안 => 17,100원"
   ]
  },
  {
   "cell_type": "code",
   "execution_count": 14,
   "id": "6b0eb4b2-1fc5-4c98-a32a-8e313125120c",
   "metadata": {},
   "outputs": [
    {
     "name": "stdin",
     "output_type": "stream",
     "text": [
      "환전하고 싶은 금액 입력! 100엔\n"
     ]
    },
    {
     "name": "stdout",
     "output_type": "stream",
     "text": [
      "10,100 원\n"
     ]
    }
   ],
   "source": [
    "exchange_list = {\"달러\":1112, \"위안\":171, \"엔\":1010}\n",
    "user_money = input(\"환전하고 싶은 금액 입력!\")\n",
    "#100달러\n",
    "\n",
    "if user_money[-2:] == \"달러\" :\n",
    "    print(f\"{exchange_list['달러'] * int(user_money[:-2]):,} 원\")\n",
    "elif user_money[-2:] == \"위안\" :\n",
    "    print(f\"{exchange_list['위안'] * int(user_money[:-2]):,} 원\")\n",
    "elif user_money[-1:] == \"엔\" :\n",
    "    print(f\"{exchange_list['엔'] * int(user_money[:-2]):,} 원\")\n",
    "else :\n",
    "    print(\"달러, 위안, 엔화 중 하나를 입력해주세요!\")"
   ]
  },
  {
   "cell_type": "code",
   "execution_count": null,
   "id": "f95bf32d-ffba-44d9-bb48-e90469e49451",
   "metadata": {},
   "outputs": [],
   "source": [
    "# 2~9단까지 => 1)숫자 2부터 9까지 반복순회!!!! 2) 피연산자로 1부터 9까지 반복순회!!! 2 * 1 = 2"
   ]
  },
  {
   "cell_type": "code",
   "execution_count": 21,
   "id": "6f4650cc-3038-4a69-a797-217cad8f0e9b",
   "metadata": {},
   "outputs": [
    {
     "name": "stdout",
     "output_type": "stream",
     "text": [
      "-------------\n",
      "- 구구단 2단 -\n",
      "-------------\n",
      "2 x 1 = 2\n",
      "2 x 2 = 4\n",
      "2 x 3 = 6\n",
      "2 x 4 = 8\n",
      "2 x 5 = 10\n",
      "2 x 6 = 12\n",
      "2 x 7 = 14\n",
      "2 x 8 = 16\n",
      "2 x 9 = 18\n",
      "\n",
      "\n",
      "-------------\n",
      "- 구구단 3단 -\n",
      "-------------\n",
      "3 x 1 = 3\n",
      "3 x 2 = 6\n",
      "3 x 3 = 9\n",
      "3 x 4 = 12\n",
      "3 x 5 = 15\n",
      "3 x 6 = 18\n",
      "3 x 7 = 21\n",
      "3 x 8 = 24\n",
      "3 x 9 = 27\n",
      "\n",
      "\n",
      "-------------\n",
      "- 구구단 4단 -\n",
      "-------------\n",
      "4 x 1 = 4\n",
      "4 x 2 = 8\n",
      "4 x 3 = 12\n",
      "4 x 4 = 16\n",
      "4 x 5 = 20\n",
      "4 x 6 = 24\n",
      "4 x 7 = 28\n",
      "4 x 8 = 32\n",
      "4 x 9 = 36\n",
      "\n",
      "\n",
      "-------------\n",
      "- 구구단 5단 -\n",
      "-------------\n",
      "5 x 1 = 5\n",
      "5 x 2 = 10\n",
      "5 x 3 = 15\n",
      "5 x 4 = 20\n",
      "5 x 5 = 25\n",
      "5 x 6 = 30\n",
      "5 x 7 = 35\n",
      "5 x 8 = 40\n",
      "5 x 9 = 45\n",
      "\n",
      "\n",
      "-------------\n",
      "- 구구단 6단 -\n",
      "-------------\n",
      "6 x 1 = 6\n",
      "6 x 2 = 12\n",
      "6 x 3 = 18\n",
      "6 x 4 = 24\n",
      "6 x 5 = 30\n",
      "6 x 6 = 36\n",
      "6 x 7 = 42\n",
      "6 x 8 = 48\n",
      "6 x 9 = 54\n",
      "\n",
      "\n",
      "-------------\n",
      "- 구구단 7단 -\n",
      "-------------\n",
      "7 x 1 = 7\n",
      "7 x 2 = 14\n",
      "7 x 3 = 21\n",
      "7 x 4 = 28\n",
      "7 x 5 = 35\n",
      "7 x 6 = 42\n",
      "7 x 7 = 49\n",
      "7 x 8 = 56\n",
      "7 x 9 = 63\n",
      "\n",
      "\n",
      "-------------\n",
      "- 구구단 8단 -\n",
      "-------------\n",
      "8 x 1 = 8\n",
      "8 x 2 = 16\n",
      "8 x 3 = 24\n",
      "8 x 4 = 32\n",
      "8 x 5 = 40\n",
      "8 x 6 = 48\n",
      "8 x 7 = 56\n",
      "8 x 8 = 64\n",
      "8 x 9 = 72\n",
      "\n",
      "\n",
      "-------------\n",
      "- 구구단 9단 -\n",
      "-------------\n",
      "9 x 1 = 9\n",
      "9 x 2 = 18\n",
      "9 x 3 = 27\n",
      "9 x 4 = 36\n",
      "9 x 5 = 45\n",
      "9 x 6 = 54\n",
      "9 x 7 = 63\n",
      "9 x 8 = 72\n",
      "9 x 9 = 81\n",
      "\n",
      "\n"
     ]
    }
   ],
   "source": [
    "for num01 in range(2, 10) :\n",
    "    print(\"-------------\")\n",
    "    print(f\"- 구구단 {num01}단 -\")\n",
    "    print(\"-------------\")\n",
    "    for num02 in range(1, 10) :\n",
    "        print(f\"{num01} x {num02} = {num01 * num02}\")\n",
    "    print(\"\\n\")"
   ]
  },
  {
   "cell_type": "markdown",
   "id": "69d88225-e53f-45f0-9342-109a7ff8f656",
   "metadata": {},
   "source": [
    "- 위에서 작성한 코드를 활용해서 다음과 같은 결과를 출력해주세요. 구구단 2~9단까지 출력하되, 계산된 결과값이 짝수인 경우만 출력해주세요!! 예) 3 x 3 = 9 이기 때문에 출력되면 안되. 2 x 4 = 8 이기 때문에 출력되어야 함!!!"
   ]
  },
  {
   "cell_type": "code",
   "execution_count": 23,
   "id": "5fb55b6f-4023-4845-98f7-5763dfe057cc",
   "metadata": {},
   "outputs": [
    {
     "name": "stdout",
     "output_type": "stream",
     "text": [
      "-------------\n",
      "- 구구단 2단 -\n",
      "-------------\n",
      "2 x 1 = 2\n",
      "2 x 2 = 4\n",
      "2 x 3 = 6\n",
      "2 x 4 = 8\n",
      "2 x 5 = 10\n",
      "2 x 6 = 12\n",
      "2 x 7 = 14\n",
      "2 x 8 = 16\n",
      "2 x 9 = 18\n",
      "\n",
      "\n",
      "-------------\n",
      "- 구구단 3단 -\n",
      "-------------\n",
      "3 x 2 = 6\n",
      "3 x 4 = 12\n",
      "3 x 6 = 18\n",
      "3 x 8 = 24\n",
      "\n",
      "\n",
      "-------------\n",
      "- 구구단 4단 -\n",
      "-------------\n",
      "4 x 1 = 4\n",
      "4 x 2 = 8\n",
      "4 x 3 = 12\n",
      "4 x 4 = 16\n",
      "4 x 5 = 20\n",
      "4 x 6 = 24\n",
      "4 x 7 = 28\n",
      "4 x 8 = 32\n",
      "4 x 9 = 36\n",
      "\n",
      "\n",
      "-------------\n",
      "- 구구단 5단 -\n",
      "-------------\n",
      "5 x 2 = 10\n",
      "5 x 4 = 20\n",
      "5 x 6 = 30\n",
      "5 x 8 = 40\n",
      "\n",
      "\n",
      "-------------\n",
      "- 구구단 6단 -\n",
      "-------------\n",
      "6 x 1 = 6\n",
      "6 x 2 = 12\n",
      "6 x 3 = 18\n",
      "6 x 4 = 24\n",
      "6 x 5 = 30\n",
      "6 x 6 = 36\n",
      "6 x 7 = 42\n",
      "6 x 8 = 48\n",
      "6 x 9 = 54\n",
      "\n",
      "\n",
      "-------------\n",
      "- 구구단 7단 -\n",
      "-------------\n",
      "7 x 2 = 14\n",
      "7 x 4 = 28\n",
      "7 x 6 = 42\n",
      "7 x 8 = 56\n",
      "\n",
      "\n",
      "-------------\n",
      "- 구구단 8단 -\n",
      "-------------\n",
      "8 x 1 = 8\n",
      "8 x 2 = 16\n",
      "8 x 3 = 24\n",
      "8 x 4 = 32\n",
      "8 x 5 = 40\n",
      "8 x 6 = 48\n",
      "8 x 7 = 56\n",
      "8 x 8 = 64\n",
      "8 x 9 = 72\n",
      "\n",
      "\n",
      "-------------\n",
      "- 구구단 9단 -\n",
      "-------------\n",
      "9 x 2 = 18\n",
      "9 x 4 = 36\n",
      "9 x 6 = 54\n",
      "9 x 8 = 72\n",
      "\n",
      "\n"
     ]
    }
   ],
   "source": [
    "for num01 in range(2, 10) :\n",
    "    print(\"-------------\")\n",
    "    print(f\"- 구구단 {num01}단 -\")\n",
    "    print(\"-------------\")\n",
    "    for num02 in range(1, 10) :\n",
    "        if (num01 * num02) % 2 == 0 :\n",
    "            print(f\"{num01} x {num02} = {num01 * num02}\")\n",
    "    print(\"\\n\")"
   ]
  },
  {
   "cell_type": "markdown",
   "id": "7a9bcea1-51f9-4178-be6b-994c51eca4c5",
   "metadata": {},
   "source": [
    "- dongs = [\"6209동\", \"6208동\", \"6207동\"]\n",
    "- hos = [\"101호\", \"102호\", \"103호\", \"104호\"]\n",
    "\n",
    "```\n",
    "6209동 101호\n",
    "6209동 102호\n",
    "6209동 103호\n",
    "6209동 104호\n",
    "\n",
    "6208동 101호\n",
    "6208동 102호\n",
    "6208동 103호\n",
    "6208동 104호\n",
    "\n",
    "6207동 101호\n",
    "6207동 102호\n",
    "6207동 103호\n",
    "6207동 104호\n",
    "```"
   ]
  },
  {
   "cell_type": "code",
   "execution_count": 26,
   "id": "5945831a-6e88-4f9c-9daf-ecd8dcca9306",
   "metadata": {},
   "outputs": [
    {
     "name": "stdout",
     "output_type": "stream",
     "text": [
      "6209동 101호\n",
      "6209동 102호\n",
      "6209동 103호\n",
      "6209동 104호\n",
      "\n",
      "6208동 101호\n",
      "6208동 102호\n",
      "6208동 103호\n",
      "6208동 104호\n",
      "\n",
      "6207동 101호\n",
      "6207동 102호\n",
      "6207동 103호\n",
      "6207동 104호\n",
      "\n"
     ]
    }
   ],
   "source": [
    "dongs = [\"6209동\", \"6208동\", \"6207동\"]\n",
    "hos = [\"101호\", \"102호\", \"103호\", \"104호\"]\n",
    "\n",
    "for item_1 in dongs :\n",
    "    for item_2 in hos :\n",
    "        print(item_1, item_2)\n",
    "    print()"
   ]
  },
  {
   "cell_type": "code",
   "execution_count": 31,
   "id": "376e93aa-d24f-473f-8d7a-582dfc6284dc",
   "metadata": {},
   "outputs": [
    {
     "data": {
      "text/plain": [
       "('coding01', 'coding02', 'coding03', 'coding04')"
      ]
     },
     "execution_count": 31,
     "metadata": {},
     "output_type": "execute_result"
    }
   ],
   "source": [
    "tupledata = (\"coding01\", \"coding02\", \"coding03\")\n",
    "# temp_list = list(tupledata)\n",
    "# temp_list.append(\"coding04\")\n",
    "# result = tuple(temp_list)\n",
    "\n",
    "# result\n",
    "\n",
    "tuple(list(tupledata) + [\"coding04\"])"
   ]
  },
  {
   "cell_type": "markdown",
   "id": "cce7b897-6388-4667-82da-a40ee48c713e",
   "metadata": {},
   "source": [
    "- 딕셔너리 형태의 자료구조를 하나 만들어서 아래와 같이 값을 출력해주세요.\n",
    "\n",
    "  ```\n",
    "  environment : 환경 x\n",
    "  company : 회사 o\n",
    "  government : 정부 x\n",
    "  face : 얼굴 x\n",
    "  ```"
   ]
  },
  {
   "cell_type": "code",
   "execution_count": 36,
   "id": "1c1c4024-b9e9-4ef9-9cee-1e5fca51ae19",
   "metadata": {},
   "outputs": [],
   "source": [
    "data = {\n",
    "    \"environment\":[\"환경\", \"x\"],\n",
    "    \"company\":[\"회사\", \"o\"],\n",
    "    \"government\":[\"정부\", \"x\"],\n",
    "    \"face\":[\"얼굴\", \"x\"],\n",
    "}"
   ]
  },
  {
   "cell_type": "code",
   "execution_count": 37,
   "id": "3116fcc1-d0cc-40c3-a4aa-4ea5906b542d",
   "metadata": {},
   "outputs": [
    {
     "name": "stdout",
     "output_type": "stream",
     "text": [
      "environment : ['환경', 'x']\n",
      "company : ['회사', 'o']\n",
      "government : ['정부', 'x']\n",
      "face : ['얼굴', 'x']\n"
     ]
    }
   ],
   "source": [
    "for item in data.keys() :\n",
    "    print(f\"{item} : {data[item]}\")"
   ]
  },
  {
   "cell_type": "markdown",
   "id": "5be4649a-a98b-4e47-ad4b-189d83624069",
   "metadata": {},
   "source": [
    "- 사용자로부터 사전에 등록되어있는 단어들 중 1개를 입력받으세요. 그러면 입력받은 단어의 경우, 외움표시 o 표시로 수정하고, 아직 외우지 못한 단어들만 출력하는 프로그램 코드를 작성해주세요!!!!"
   ]
  },
  {
   "cell_type": "code",
   "execution_count": 47,
   "id": "1b59411d-62ef-409e-b762-e5c7255539df",
   "metadata": {},
   "outputs": [
    {
     "name": "stdin",
     "output_type": "stream",
     "text": [
      "다 외운 단어 입력하기 government\n"
     ]
    },
    {
     "name": "stdout",
     "output_type": "stream",
     "text": [
      "environment\n"
     ]
    }
   ],
   "source": [
    "english = input(\"다 외운 단어 입력하기\")\n",
    "\n",
    "if english in data.keys() :\n",
    "    data[english][1] = \"o\"\n",
    "else :\n",
    "    print(\"사전에 존재하지않는 단어입니다!\")\n",
    "\n",
    "for item in data.keys() :\n",
    "    data_list = data[item]\n",
    "    if data_list[1] == \"x\" :\n",
    "        print(item)"
   ]
  },
  {
   "cell_type": "markdown",
   "id": "b7eabccd-a25b-439d-90c3-84f019400384",
   "metadata": {},
   "source": [
    "- dict_all = {\"environment\":\"환경\", \"government\":\"정부\"}\n",
    "- dict2 = {\"company\":\"회사\", \"face\":\"얼굴\"}\n",
    "- dict3 = {\"apple\":\"사과\"}\n",
    "- dict_all안에 dict2와 dict3 값을 모두 넣어주세요! 그리고 dict_all 값을 출력해주세요."
   ]
  },
  {
   "cell_type": "code",
   "execution_count": 2,
   "id": "00ed2dd6-a3bf-436d-9de9-b0cfb4341414",
   "metadata": {},
   "outputs": [
    {
     "data": {
      "text/plain": [
       "{'environment': '환경',\n",
       " 'government': '정부',\n",
       " 'company': '회사',\n",
       " 'face': '얼굴',\n",
       " 'apple': '사과'}"
      ]
     },
     "execution_count": 2,
     "metadata": {},
     "output_type": "execute_result"
    }
   ],
   "source": [
    "dict_all = {\"environment\":\"환경\", \"government\":\"정부\"}\n",
    "dict2 = {\"company\":\"회사\", \"face\":\"얼굴\"}\n",
    "dict3 = {\"apple\":\"사과\"}\n",
    "\n",
    "for item in dict2.keys() :\n",
    "    dict_all[item] = dict2[item]\n",
    "    \n",
    "for item in dict3.keys() :\n",
    "    dict_all[item] = dict3[item]\n",
    "\n",
    "dict_all"
   ]
  },
  {
   "cell_type": "code",
   "execution_count": 7,
   "id": "1df3bf60-2824-46e6-be08-0e92b5f4b47f",
   "metadata": {},
   "outputs": [
    {
     "data": {
      "text/plain": [
       "{1, 3, 4, 5, 6}"
      ]
     },
     "execution_count": 7,
     "metadata": {},
     "output_type": "execute_result"
    }
   ],
   "source": [
    "number_list = {1, 2, 3}\n",
    "number_list.add(4)\n",
    "number_list.update([5, 6])\n",
    "number_list.remove(2)\n",
    "\n",
    "number_list"
   ]
  },
  {
   "cell_type": "markdown",
   "id": "5e4c09e7-d299-4a9b-aae7-cefb1fc8cfb6",
   "metadata": {},
   "source": [
    "- 임의의 숫자 2개를 사용자에게 받으면 해당 2개의 숫자를 곱한 값을 반환하는 함수를 만들고, 해당 함수의 결과값을 화면에 출력해주세요!!!"
   ]
  },
  {
   "cell_type": "code",
   "execution_count": 13,
   "id": "6f9b1d5a-bd86-4035-9804-060fe00f920a",
   "metadata": {},
   "outputs": [
    {
     "name": "stdin",
     "output_type": "stream",
     "text": [
      "숫자를 입력하세요! 2\n",
      "숫자를 입력하세요! 4\n"
     ]
    },
    {
     "name": "stdout",
     "output_type": "stream",
     "text": [
      "8\n"
     ]
    }
   ],
   "source": [
    "# num1 = int(input(\"첫번째 숫자\"))\n",
    "# num2 = int(input(\"첫번째 숫자\"))\n",
    "\n",
    "num_all = [int(input(\"숫자를 입력하세요!\")) for _ in range(2)]\n",
    "\n",
    "def f1(num1, num2) :\n",
    "    return num1 * num2\n",
    "\n",
    "print(f1(num_all[1], num_all[0]))"
   ]
  },
  {
   "cell_type": "markdown",
   "id": "cedbde64-01bf-431d-83e0-c1ab70aa58ed",
   "metadata": {},
   "source": [
    "- 인자값 3개를 받을 수 있는 함수를 호출합니다.\n",
    "- func1(인자값1, 인자값2, 인자값3)\n",
    "- 해당 함수의 3번째 인자값 = 인자값3, + => 첫번째 인자값과 두번째 인자값을 더한 결과값을 반환하도록 해주시고, 만약 3번째 인자값이 * 라면, 첫번째 인자값과 두번째 인자값을 곱한 결과값을 반환해주세요. 그런데 만약 3번째 인자값이 +도 아니고, *도 아니라면 무조건 0이라는 값을 반환하도록 하는 함수를 만들어 주세요!!!"
   ]
  }
 ],
 "metadata": {
  "kernelspec": {
   "display_name": "Python [conda env:base] *",
   "language": "python",
   "name": "conda-base-py"
  },
  "language_info": {
   "codemirror_mode": {
    "name": "ipython",
    "version": 3
   },
   "file_extension": ".py",
   "mimetype": "text/x-python",
   "name": "python",
   "nbconvert_exporter": "python",
   "pygments_lexer": "ipython3",
   "version": "3.13.5"
  }
 },
 "nbformat": 4,
 "nbformat_minor": 5
}
