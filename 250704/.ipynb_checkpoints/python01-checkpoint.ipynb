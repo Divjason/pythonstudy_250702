{
 "cells": [
  {
   "cell_type": "markdown",
   "id": "19ec6f8e-5cb4-464c-9c90-df5657bcf9f5",
   "metadata": {},
   "source": [
    "#### 파이썬 자료구조\n",
    "- list => 하나의 그룹안에 순번을 매겨서 값을 저장해놓은 형태 (*단일 값을 수정, 삭제 등 변경 허용)\n",
    "- tuple => 하나의 그룹안에 순번을 매겨서 값을 저장해놓은 형태 (*단일 값을 수정, 삭제 등 변경 허용x)\n",
    "- dictionary => 사전 (*단어 : 뜻, 형태, 예시 등등 세부정보) => key(*단어) & value(*해당 단어에 대한 의미) => 속성 (*property)\n",
    "- CRUD => 웹 사이트 구현정도 // 프로그램 난이도 // 고급언어인지, 저급언어인지 등을 구분\n",
    "- Create // Read // Update // Delete => 고급언어로 난이도 상단계 포지션\n",
    "- 프로그래밍언어는 절대 정답 x => 예제 문제 => 제가 문제를 해결한 방법 // 수강생 분들이 문제를 해결한 방법 => x\n",
    "- 2 => 1+1 // 10/5 / 2*1\n",
    "- 문자열 => 숫자 => 문법 해결\n",
    "- 문자열 => 문법 해결\n",
    "- 세상에 듣도보도 못한 어떤 문법체계를 가져와서 문제를 해결\n",
    "- 개발영역 => 결과과 도출된다면 모두 답 => 어떤 답이 \"효과\"적 || \"효율\"이 있는가?\n",
    "- 만들고자 하는 프로그램이 지향하는 것이 무엇이냐? => 안정성 // 속도 // 메모리?\n",
    "- 시간 => 빠른시간 내 코드를 처리할 수 있는가 => 시간복잡도 라는 개념\n",
    "- 어떤 코드가 실행되는데 있어서 얼만큼 빨리 처리하냐 => 빅오메가 // 빅세타 // 빅오 개념 => 하드웨어 => 컴퓨터의 성능차이\n",
    "- 빅오 시간 체크 => 가장 많은 시간을 차지하는 것 하나를 체크 => 반복문"
   ]
  },
  {
   "cell_type": "code",
   "execution_count": 2,
   "id": "2ea29ad8-99f3-465a-8a8e-d6a59b1e8a07",
   "metadata": {},
   "outputs": [
    {
     "data": {
      "text/plain": [
       "{'name': 'David'}"
      ]
     },
     "execution_count": 2,
     "metadata": {},
     "output_type": "execute_result"
    }
   ],
   "source": [
    "dict1 = {\"name\": \"David\"}\n",
    "dict1"
   ]
  },
  {
   "cell_type": "code",
   "execution_count": 4,
   "id": "3dfc46fe-8b92-48f2-856f-27df5c7f2410",
   "metadata": {},
   "outputs": [
    {
     "data": {
      "text/plain": [
       "{'korean': 95, 'math': 100, 'science': 80}"
      ]
     },
     "execution_count": 4,
     "metadata": {},
     "output_type": "execute_result"
    }
   ],
   "source": [
    "dict2 = {\"korean\":95, \"math\":100, \"science\":80}\n",
    "dict2"
   ]
  },
  {
   "cell_type": "code",
   "execution_count": 6,
   "id": "a33785c8-ed0c-4a15-8423-3721cd290d25",
   "metadata": {},
   "outputs": [
    {
     "name": "stdout",
     "output_type": "stream",
     "text": [
      "<class 'dict'>\n"
     ]
    }
   ],
   "source": [
    "# list1 = [] | [1, 2] | list()\n",
    "# tupl1 = () | (1, 2) | tuple()\n",
    "\n",
    "dict1 = {} #{} => set자료구조 일수도 있음\n",
    "dict2 = dict()\n",
    "\n",
    "print(type(dict2))"
   ]
  },
  {
   "cell_type": "code",
   "execution_count": 8,
   "id": "03bd1e69-7956-498b-8c32-5d3e0c97555d",
   "metadata": {},
   "outputs": [],
   "source": [
    "data_dict = {\"한국\":\"KR\", \"일본\":\"JP\", \"중국\":\"CN\"}"
   ]
  },
  {
   "cell_type": "code",
   "execution_count": 9,
   "id": "a830595e-eefa-4b8b-be0f-e4efb36c5a9d",
   "metadata": {},
   "outputs": [
    {
     "data": {
      "text/plain": [
       "'KR'"
      ]
     },
     "execution_count": 9,
     "metadata": {},
     "output_type": "execute_result"
    }
   ],
   "source": [
    "data_dict[\"한국\"]"
   ]
  },
  {
   "cell_type": "code",
   "execution_count": 10,
   "id": "f0718588-cb1b-4326-ad66-07b7f29b8ae3",
   "metadata": {},
   "outputs": [],
   "source": [
    "data_dict[\"미국\"] = \"US\""
   ]
  },
  {
   "cell_type": "code",
   "execution_count": 11,
   "id": "2bad1d9f-4cba-484f-8f9a-d53287a82236",
   "metadata": {},
   "outputs": [
    {
     "data": {
      "text/plain": [
       "{'한국': 'KR', '일본': 'JP', '중국': 'CN', '미국': 'US'}"
      ]
     },
     "execution_count": 11,
     "metadata": {},
     "output_type": "execute_result"
    }
   ],
   "source": [
    "data_dict"
   ]
  },
  {
   "cell_type": "code",
   "execution_count": 12,
   "id": "ecbba734-e2d2-4ff9-ad36-ab8d7d4bccfe",
   "metadata": {},
   "outputs": [],
   "source": [
    "del data_dict[\"일본\"]"
   ]
  },
  {
   "cell_type": "code",
   "execution_count": 13,
   "id": "602a30da-cc97-442c-9a67-2cb5be3748c7",
   "metadata": {},
   "outputs": [
    {
     "data": {
      "text/plain": [
       "{'한국': 'KR', '중국': 'CN', '미국': 'US'}"
      ]
     },
     "execution_count": 13,
     "metadata": {},
     "output_type": "execute_result"
    }
   ],
   "source": [
    "data_dict"
   ]
  },
  {
   "cell_type": "code",
   "execution_count": 14,
   "id": "a240084e-15cf-43c6-82e9-eae9f845b8bc",
   "metadata": {},
   "outputs": [],
   "source": [
    "data_dict[\"미국\"] = \"USA\""
   ]
  },
  {
   "cell_type": "code",
   "execution_count": 15,
   "id": "a603b151-6c51-4974-b162-1c75c6f2a886",
   "metadata": {},
   "outputs": [
    {
     "data": {
      "text/plain": [
       "{'한국': 'KR', '중국': 'CN', '미국': 'USA'}"
      ]
     },
     "execution_count": 15,
     "metadata": {},
     "output_type": "execute_result"
    }
   ],
   "source": [
    "data_dict"
   ]
  },
  {
   "cell_type": "code",
   "execution_count": 21,
   "id": "ce88ca9f-3e76-468b-814b-c310af2a69ae",
   "metadata": {},
   "outputs": [
    {
     "name": "stdout",
     "output_type": "stream",
     "text": [
      "dict_keys(['한국', '중국', '미국'])\n",
      "<class 'dict_keys'>\n",
      "dict_values(['KR', 'CN', 'USA'])\n",
      "dict_items([('한국', 'KR'), ('중국', 'CN'), ('미국', 'USA')])\n"
     ]
    }
   ],
   "source": [
    "keys = data_dict.keys()\n",
    "print(keys)\n",
    "print(type(keys))\n",
    "\n",
    "values = data_dict.values()\n",
    "print(values)\n",
    "\n",
    "items = data_dict.items()\n",
    "print(items)"
   ]
  },
  {
   "cell_type": "code",
   "execution_count": 22,
   "id": "0b1b5402-e735-4346-9d70-2542a693cd33",
   "metadata": {},
   "outputs": [
    {
     "name": "stdout",
     "output_type": "stream",
     "text": [
      "한국\n",
      "중국\n",
      "미국\n"
     ]
    }
   ],
   "source": [
    "for key in keys :\n",
    "    print(key)"
   ]
  },
  {
   "cell_type": "code",
   "execution_count": 23,
   "id": "4ad871f4-7ef3-4ce5-8392-e1d658bacae9",
   "metadata": {},
   "outputs": [
    {
     "name": "stdout",
     "output_type": "stream",
     "text": [
      "('한국', 'KR')\n",
      "('중국', 'CN')\n",
      "('미국', 'USA')\n"
     ]
    }
   ],
   "source": [
    "for item in items :\n",
    "    print(item)"
   ]
  },
  {
   "cell_type": "markdown",
   "id": "13778d5a-1138-4f1e-bf74-82baea7fa449",
   "metadata": {},
   "source": [
    "#### 리스트"
   ]
  },
  {
   "cell_type": "markdown",
   "id": "3e175ba5-838d-4969-8d31-88b78a00a7e4",
   "metadata": {},
   "source": [
    "- HTML문서상에 제목이 여러개있는 경우"
   ]
  },
  {
   "cell_type": "code",
   "execution_count": 24,
   "id": "406c0ee7-17ca-4e81-9a7e-c4423ea71cd3",
   "metadata": {},
   "outputs": [
    {
     "name": "stdout",
     "output_type": "stream",
     "text": [
      "뉴스A\n",
      "뉴스B\n",
      "뉴스C\n",
      "뉴스A\n"
     ]
    }
   ],
   "source": [
    "titles = [\"뉴스A\", \"뉴스B\", \"뉴스C\", \"뉴스A\"]\n",
    "for title in titles :\n",
    "    print(title)"
   ]
  },
  {
   "cell_type": "markdown",
   "id": "6ab5bd4d-79e8-4037-9068-4392176edced",
   "metadata": {},
   "source": [
    "#### 딕셔너리"
   ]
  },
  {
   "cell_type": "code",
   "execution_count": null,
   "id": "e360016e-aae0-4560-9514-1a85e0de8bcf",
   "metadata": {},
   "outputs": [],
   "source": [
    "article01 = {\n",
    "    \"title\":\"뉴스A\",\n",
    "    \"link\":\"https://www.naver.com\"\n",
    "}\n",
    "\n",
    "article02 = {\n",
    "    \"title\":\"뉴스B\",\n",
    "    \"link\":\"https://www.naver.com\"\n",
    "}\n",
    "\n",
    "articleList = [article01, article02]"
   ]
  }
 ],
 "metadata": {
  "kernelspec": {
   "display_name": "Python [conda env:base] *",
   "language": "python",
   "name": "conda-base-py"
  },
  "language_info": {
   "codemirror_mode": {
    "name": "ipython",
    "version": 3
   },
   "file_extension": ".py",
   "mimetype": "text/x-python",
   "name": "python",
   "nbconvert_exporter": "python",
   "pygments_lexer": "ipython3",
   "version": "3.13.5"
  }
 },
 "nbformat": 4,
 "nbformat_minor": 5
}
